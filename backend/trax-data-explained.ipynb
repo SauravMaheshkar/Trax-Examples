{
 "cells": [
  {
   "cell_type": "code",
   "execution_count": 1,
   "metadata": {
    "_kg_hide-output": true,
    "execution": {
     "iopub.execute_input": "2020-10-25T07:19:57.201188Z",
     "iopub.status.busy": "2020-10-25T07:19:57.200381Z",
     "iopub.status.idle": "2020-10-25T07:20:21.339460Z",
     "shell.execute_reply": "2020-10-25T07:20:21.338615Z"
    },
    "id": "u6IGlnMDLf6M",
    "papermill": {
     "duration": 24.171119,
     "end_time": "2020-10-25T07:20:21.339597",
     "exception": false,
     "start_time": "2020-10-25T07:19:57.168478",
     "status": "completed"
    },
    "tags": []
   },
   "outputs": [
    {
     "name": "stdout",
     "output_type": "stream",
     "text": [
      "Collecting trax\r\n",
      "  Downloading trax-1.3.6-py2.py3-none-any.whl (468 kB)\r\n",
      "\u001b[K     |████████████████████████████████| 468 kB 2.9 MB/s \r\n",
      "\u001b[?25hRequirement already satisfied, skipping upgrade: tensorflow-datasets in /opt/conda/lib/python3.7/site-packages (from trax) (4.0.1)\r\n",
      "Collecting gin-config\r\n",
      "  Downloading gin_config-0.3.0-py3-none-any.whl (44 kB)\r\n",
      "\u001b[K     |████████████████████████████████| 44 kB 1.4 MB/s \r\n",
      "\u001b[?25hCollecting t5\r\n",
      "  Downloading t5-0.7.0-py3-none-any.whl (171 kB)\r\n",
      "\u001b[K     |████████████████████████████████| 171 kB 13.7 MB/s \r\n",
      "\u001b[?25hCollecting jax\r\n",
      "  Downloading jax-0.2.4.tar.gz (483 kB)\r\n",
      "\u001b[K     |████████████████████████████████| 483 kB 14.3 MB/s \r\n",
      "\u001b[?25hRequirement already satisfied, skipping upgrade: scipy in /opt/conda/lib/python3.7/site-packages (from trax) (1.4.1)\r\n",
      "Requirement already satisfied, skipping upgrade: numpy in /opt/conda/lib/python3.7/site-packages (from trax) (1.18.5)\r\n",
      "Collecting funcsigs\r\n",
      "  Downloading funcsigs-1.0.2-py2.py3-none-any.whl (17 kB)\r\n",
      "Collecting tensorflow-text\r\n",
      "  Downloading tensorflow_text-2.3.0-cp37-cp37m-manylinux1_x86_64.whl (2.6 MB)\r\n",
      "\u001b[K     |████████████████████████████████| 2.6 MB 20.5 MB/s \r\n",
      "\u001b[?25hRequirement already satisfied, skipping upgrade: gym in /opt/conda/lib/python3.7/site-packages (from trax) (0.17.3)\r\n",
      "Requirement already satisfied, skipping upgrade: six in /opt/conda/lib/python3.7/site-packages (from trax) (1.14.0)\r\n",
      "Collecting jaxlib\r\n",
      "  Downloading jaxlib-0.1.56-cp37-none-manylinux2010_x86_64.whl (32.1 MB)\r\n",
      "\u001b[K     |████████████████████████████████| 32.1 MB 38.2 MB/s \r\n",
      "\u001b[?25hRequirement already satisfied, skipping upgrade: absl-py in /opt/conda/lib/python3.7/site-packages (from trax) (0.10.0)\r\n",
      "Requirement already satisfied, skipping upgrade: dill in /opt/conda/lib/python3.7/site-packages (from tensorflow-datasets->trax) (0.3.2)\r\n",
      "Requirement already satisfied, skipping upgrade: termcolor in /opt/conda/lib/python3.7/site-packages (from tensorflow-datasets->trax) (1.1.0)\r\n",
      "Requirement already satisfied, skipping upgrade: future in /opt/conda/lib/python3.7/site-packages (from tensorflow-datasets->trax) (0.18.2)\r\n",
      "Requirement already satisfied, skipping upgrade: dm-tree in /opt/conda/lib/python3.7/site-packages (from tensorflow-datasets->trax) (0.1.5)\r\n",
      "Requirement already satisfied, skipping upgrade: tensorflow-metadata in /opt/conda/lib/python3.7/site-packages (from tensorflow-datasets->trax) (0.24.0)\r\n",
      "Requirement already satisfied, skipping upgrade: promise in /opt/conda/lib/python3.7/site-packages (from tensorflow-datasets->trax) (2.3)\r\n",
      "Requirement already satisfied, skipping upgrade: tqdm in /opt/conda/lib/python3.7/site-packages (from tensorflow-datasets->trax) (4.45.0)\r\n",
      "Requirement already satisfied, skipping upgrade: attrs>=18.1.0 in /opt/conda/lib/python3.7/site-packages (from tensorflow-datasets->trax) (19.3.0)\r\n",
      "Requirement already satisfied, skipping upgrade: protobuf>=3.6.1 in /opt/conda/lib/python3.7/site-packages (from tensorflow-datasets->trax) (3.13.0)\r\n",
      "Requirement already satisfied, skipping upgrade: requests>=2.19.0 in /opt/conda/lib/python3.7/site-packages (from tensorflow-datasets->trax) (2.23.0)\r\n",
      "Requirement already satisfied, skipping upgrade: importlib-resources; python_version < \"3.9\" in /opt/conda/lib/python3.7/site-packages (from tensorflow-datasets->trax) (3.0.0)\r\n",
      "Requirement already satisfied, skipping upgrade: torch in /opt/conda/lib/python3.7/site-packages (from t5->trax) (1.6.0)\r\n",
      "Requirement already satisfied, skipping upgrade: pandas in /opt/conda/lib/python3.7/site-packages (from t5->trax) (1.1.3)\r\n",
      "Requirement already satisfied, skipping upgrade: sentencepiece in /opt/conda/lib/python3.7/site-packages (from t5->trax) (0.1.91)\r\n",
      "Requirement already satisfied, skipping upgrade: babel in /opt/conda/lib/python3.7/site-packages (from t5->trax) (2.8.0)\r\n",
      "Requirement already satisfied, skipping upgrade: scikit-learn in /opt/conda/lib/python3.7/site-packages (from t5->trax) (0.23.2)\r\n",
      "Requirement already satisfied, skipping upgrade: nltk in /opt/conda/lib/python3.7/site-packages (from t5->trax) (3.2.4)\r\n",
      "Collecting tfds-nightly\r\n",
      "  Downloading tfds_nightly-4.0.1.dev202010240107-py3-none-any.whl (3.6 MB)\r\n",
      "\u001b[K     |████████████████████████████████| 3.6 MB 50.0 MB/s \r\n",
      "\u001b[?25hCollecting mesh-tensorflow[transformer]>=0.1.13\r\n",
      "  Downloading mesh_tensorflow-0.1.17-py3-none-any.whl (342 kB)\r\n",
      "\u001b[K     |████████████████████████████████| 342 kB 51.6 MB/s \r\n",
      "\u001b[?25hCollecting sacrebleu\r\n",
      "  Downloading sacrebleu-1.4.14-py3-none-any.whl (64 kB)\r\n",
      "\u001b[K     |████████████████████████████████| 64 kB 2.4 MB/s \r\n",
      "\u001b[?25hCollecting rouge-score\r\n",
      "  Downloading rouge_score-0.0.4-py2.py3-none-any.whl (22 kB)\r\n",
      "Requirement already satisfied, skipping upgrade: transformers>=2.7.0 in /opt/conda/lib/python3.7/site-packages (from t5->trax) (3.0.2)\r\n",
      "Requirement already satisfied, skipping upgrade: opt_einsum in /opt/conda/lib/python3.7/site-packages (from jax->trax) (3.3.0)\r\n",
      "Requirement already satisfied, skipping upgrade: tensorflow<2.4,>=2.3.0 in /opt/conda/lib/python3.7/site-packages (from tensorflow-text->trax) (2.3.1)\r\n",
      "Requirement already satisfied, skipping upgrade: pyglet<=1.5.0,>=1.4.0 in /opt/conda/lib/python3.7/site-packages (from gym->trax) (1.5.0)\r\n",
      "Requirement already satisfied, skipping upgrade: cloudpickle<1.7.0,>=1.2.0 in /opt/conda/lib/python3.7/site-packages (from gym->trax) (1.3.0)\r\n",
      "Requirement already satisfied, skipping upgrade: googleapis-common-protos<2,>=1.52.0 in /opt/conda/lib/python3.7/site-packages (from tensorflow-metadata->tensorflow-datasets->trax) (1.52.0)\r\n",
      "Requirement already satisfied, skipping upgrade: setuptools in /opt/conda/lib/python3.7/site-packages (from protobuf>=3.6.1->tensorflow-datasets->trax) (46.1.3.post20200325)\r\n",
      "Requirement already satisfied, skipping upgrade: certifi>=2017.4.17 in /opt/conda/lib/python3.7/site-packages (from requests>=2.19.0->tensorflow-datasets->trax) (2020.6.20)\r\n",
      "Requirement already satisfied, skipping upgrade: idna<3,>=2.5 in /opt/conda/lib/python3.7/site-packages (from requests>=2.19.0->tensorflow-datasets->trax) (2.9)\r\n",
      "Requirement already satisfied, skipping upgrade: urllib3!=1.25.0,!=1.25.1,<1.26,>=1.21.1 in /opt/conda/lib/python3.7/site-packages (from requests>=2.19.0->tensorflow-datasets->trax) (1.24.3)\r\n",
      "Requirement already satisfied, skipping upgrade: chardet<4,>=3.0.2 in /opt/conda/lib/python3.7/site-packages (from requests>=2.19.0->tensorflow-datasets->trax) (3.0.4)\r\n",
      "Requirement already satisfied, skipping upgrade: zipp>=0.4; python_version < \"3.8\" in /opt/conda/lib/python3.7/site-packages (from importlib-resources; python_version < \"3.9\"->tensorflow-datasets->trax) (3.1.0)\r\n",
      "Requirement already satisfied, skipping upgrade: pytz>=2017.2 in /opt/conda/lib/python3.7/site-packages (from pandas->t5->trax) (2019.3)\r\n",
      "Requirement already satisfied, skipping upgrade: python-dateutil>=2.7.3 in /opt/conda/lib/python3.7/site-packages (from pandas->t5->trax) (2.8.1)\r\n",
      "Requirement already satisfied, skipping upgrade: threadpoolctl>=2.0.0 in /opt/conda/lib/python3.7/site-packages (from scikit-learn->t5->trax) (2.1.0)\r\n",
      "Requirement already satisfied, skipping upgrade: joblib>=0.11 in /opt/conda/lib/python3.7/site-packages (from scikit-learn->t5->trax) (0.14.1)\r\n",
      "Requirement already satisfied, skipping upgrade: typing-extensions; python_version < \"3.8\" in /opt/conda/lib/python3.7/site-packages (from tfds-nightly->t5->trax) (3.7.4.1)\r\n",
      "Requirement already satisfied, skipping upgrade: portalocker in /opt/conda/lib/python3.7/site-packages (from sacrebleu->t5->trax) (2.0.0)\r\n",
      "Requirement already satisfied, skipping upgrade: filelock in /opt/conda/lib/python3.7/site-packages (from transformers>=2.7.0->t5->trax) (3.0.10)\r\n",
      "Requirement already satisfied, skipping upgrade: tokenizers==0.8.1.rc1 in /opt/conda/lib/python3.7/site-packages (from transformers>=2.7.0->t5->trax) (0.8.1rc1)\r\n",
      "Requirement already satisfied, skipping upgrade: regex!=2019.12.17 in /opt/conda/lib/python3.7/site-packages (from transformers>=2.7.0->t5->trax) (2020.4.4)\r\n",
      "Requirement already satisfied, skipping upgrade: packaging in /opt/conda/lib/python3.7/site-packages (from transformers>=2.7.0->t5->trax) (20.1)\r\n",
      "Requirement already satisfied, skipping upgrade: sacremoses in /opt/conda/lib/python3.7/site-packages (from transformers>=2.7.0->t5->trax) (0.0.43)\r\n",
      "Requirement already satisfied, skipping upgrade: wrapt>=1.11.1 in /opt/conda/lib/python3.7/site-packages (from tensorflow<2.4,>=2.3.0->tensorflow-text->trax) (1.11.2)\r\n",
      "Requirement already satisfied, skipping upgrade: tensorboard<3,>=2.3.0 in /opt/conda/lib/python3.7/site-packages (from tensorflow<2.4,>=2.3.0->tensorflow-text->trax) (2.3.0)\r\n",
      "Requirement already satisfied, skipping upgrade: wheel>=0.26 in /opt/conda/lib/python3.7/site-packages (from tensorflow<2.4,>=2.3.0->tensorflow-text->trax) (0.34.2)\r\n",
      "Requirement already satisfied, skipping upgrade: grpcio>=1.8.6 in /opt/conda/lib/python3.7/site-packages (from tensorflow<2.4,>=2.3.0->tensorflow-text->trax) (1.32.0)\r\n",
      "Requirement already satisfied, skipping upgrade: keras-preprocessing<1.2,>=1.1.1 in /opt/conda/lib/python3.7/site-packages (from tensorflow<2.4,>=2.3.0->tensorflow-text->trax) (1.1.2)\r\n",
      "Requirement already satisfied, skipping upgrade: tensorflow-estimator<2.4.0,>=2.3.0 in /opt/conda/lib/python3.7/site-packages (from tensorflow<2.4,>=2.3.0->tensorflow-text->trax) (2.3.0)\r\n",
      "Requirement already satisfied, skipping upgrade: h5py<2.11.0,>=2.10.0 in /opt/conda/lib/python3.7/site-packages (from tensorflow<2.4,>=2.3.0->tensorflow-text->trax) (2.10.0)\r\n",
      "Requirement already satisfied, skipping upgrade: gast==0.3.3 in /opt/conda/lib/python3.7/site-packages (from tensorflow<2.4,>=2.3.0->tensorflow-text->trax) (0.3.3)\r\n",
      "Requirement already satisfied, skipping upgrade: google-pasta>=0.1.8 in /opt/conda/lib/python3.7/site-packages (from tensorflow<2.4,>=2.3.0->tensorflow-text->trax) (0.2.0)\r\n",
      "Requirement already satisfied, skipping upgrade: astunparse==1.6.3 in /opt/conda/lib/python3.7/site-packages (from tensorflow<2.4,>=2.3.0->tensorflow-text->trax) (1.6.3)\r\n",
      "Requirement already satisfied, skipping upgrade: pyparsing>=2.0.2 in /opt/conda/lib/python3.7/site-packages (from packaging->transformers>=2.7.0->t5->trax) (2.4.7)\r\n",
      "Requirement already satisfied, skipping upgrade: click in /opt/conda/lib/python3.7/site-packages (from sacremoses->transformers>=2.7.0->t5->trax) (7.1.1)\r\n",
      "Requirement already satisfied, skipping upgrade: werkzeug>=0.11.15 in /opt/conda/lib/python3.7/site-packages (from tensorboard<3,>=2.3.0->tensorflow<2.4,>=2.3.0->tensorflow-text->trax) (1.0.1)\r\n",
      "Requirement already satisfied, skipping upgrade: markdown>=2.6.8 in /opt/conda/lib/python3.7/site-packages (from tensorboard<3,>=2.3.0->tensorflow<2.4,>=2.3.0->tensorflow-text->trax) (3.2.1)\r\n",
      "Requirement already satisfied, skipping upgrade: tensorboard-plugin-wit>=1.6.0 in /opt/conda/lib/python3.7/site-packages (from tensorboard<3,>=2.3.0->tensorflow<2.4,>=2.3.0->tensorflow-text->trax) (1.7.0)\r\n",
      "Requirement already satisfied, skipping upgrade: google-auth<2,>=1.6.3 in /opt/conda/lib/python3.7/site-packages (from tensorboard<3,>=2.3.0->tensorflow<2.4,>=2.3.0->tensorflow-text->trax) (1.14.0)\r\n",
      "Requirement already satisfied, skipping upgrade: google-auth-oauthlib<0.5,>=0.4.1 in /opt/conda/lib/python3.7/site-packages (from tensorboard<3,>=2.3.0->tensorflow<2.4,>=2.3.0->tensorflow-text->trax) (0.4.1)\r\n",
      "Requirement already satisfied, skipping upgrade: cachetools<5.0,>=2.0.0 in /opt/conda/lib/python3.7/site-packages (from google-auth<2,>=1.6.3->tensorboard<3,>=2.3.0->tensorflow<2.4,>=2.3.0->tensorflow-text->trax) (3.1.1)\r\n",
      "Requirement already satisfied, skipping upgrade: pyasn1-modules>=0.2.1 in /opt/conda/lib/python3.7/site-packages (from google-auth<2,>=1.6.3->tensorboard<3,>=2.3.0->tensorflow<2.4,>=2.3.0->tensorflow-text->trax) (0.2.7)\r\n",
      "Requirement already satisfied, skipping upgrade: rsa<4.1,>=3.1.4 in /opt/conda/lib/python3.7/site-packages (from google-auth<2,>=1.6.3->tensorboard<3,>=2.3.0->tensorflow<2.4,>=2.3.0->tensorflow-text->trax) (4.0)\r\n",
      "Requirement already satisfied, skipping upgrade: requests-oauthlib>=0.7.0 in /opt/conda/lib/python3.7/site-packages (from google-auth-oauthlib<0.5,>=0.4.1->tensorboard<3,>=2.3.0->tensorflow<2.4,>=2.3.0->tensorflow-text->trax) (1.2.0)\r\n",
      "Requirement already satisfied, skipping upgrade: pyasn1<0.5.0,>=0.4.6 in /opt/conda/lib/python3.7/site-packages (from pyasn1-modules>=0.2.1->google-auth<2,>=1.6.3->tensorboard<3,>=2.3.0->tensorflow<2.4,>=2.3.0->tensorflow-text->trax) (0.4.8)\r\n",
      "Requirement already satisfied, skipping upgrade: oauthlib>=3.0.0 in /opt/conda/lib/python3.7/site-packages (from requests-oauthlib>=0.7.0->google-auth-oauthlib<0.5,>=0.4.1->tensorboard<3,>=2.3.0->tensorflow<2.4,>=2.3.0->tensorflow-text->trax) (3.0.1)\r\n",
      "Building wheels for collected packages: jax\r\n",
      "  Building wheel for jax (setup.py) ... \u001b[?25l-\b \b\\\b \b|\b \b/\b \bdone\r\n",
      "\u001b[?25h  Created wheel for jax: filename=jax-0.2.4-py3-none-any.whl size=570515 sha256=43b976bb8a7e628882ce766d6c32827341004e541e721a4db0808c15f1a15b56\r\n",
      "  Stored in directory: /root/.cache/pip/wheels/cc/18/41/1259ee29cd2ba574d253934cde64c826c80817ce09d3065bd4\r\n",
      "Successfully built jax\r\n",
      "Installing collected packages: gin-config, tensorflow-text, tfds-nightly, mesh-tensorflow, sacrebleu, rouge-score, t5, jax, funcsigs, jaxlib, trax\r\n",
      "Successfully installed funcsigs-1.0.2 gin-config-0.3.0 jax-0.2.4 jaxlib-0.1.56 mesh-tensorflow-0.1.17 rouge-score-0.0.4 sacrebleu-1.4.14 t5-0.7.0 tensorflow-text-2.3.0 tfds-nightly-4.0.1.dev202010240107 trax-1.3.6\r\n"
     ]
    }
   ],
   "source": [
    "## Install the Latest Version of Trax\n",
    "!pip install --upgrade trax"
   ]
  },
  {
   "cell_type": "markdown",
   "metadata": {
    "id": "jtMr8yxvM2m3",
    "papermill": {
     "duration": 0.065824,
     "end_time": "2020-10-25T07:20:21.474626",
     "exception": false,
     "start_time": "2020-10-25T07:20:21.408802",
     "status": "completed"
    },
    "tags": []
   },
   "source": [
    "# Introduction"
   ]
  },
  {
   "cell_type": "code",
   "execution_count": 2,
   "metadata": {
    "execution": {
     "iopub.execute_input": "2020-10-25T07:20:21.613309Z",
     "iopub.status.busy": "2020-10-25T07:20:21.612583Z",
     "iopub.status.idle": "2020-10-25T07:20:57.602327Z",
     "shell.execute_reply": "2020-10-25T07:20:57.601523Z"
    },
    "id": "yD3A2vRGSDwy",
    "papermill": {
     "duration": 36.060802,
     "end_time": "2020-10-25T07:20:57.602495",
     "exception": false,
     "start_time": "2020-10-25T07:20:21.541693",
     "status": "completed"
    },
    "tags": []
   },
   "outputs": [],
   "source": [
    "import trax"
   ]
  },
  {
   "cell_type": "markdown",
   "metadata": {
    "id": "v5VsWct1QjPz",
    "papermill": {
     "duration": 0.065756,
     "end_time": "2020-10-25T07:20:57.734601",
     "exception": false,
     "start_time": "2020-10-25T07:20:57.668845",
     "status": "completed"
    },
    "tags": []
   },
   "source": [
    "# ⬇️ Serial Fn"
   ]
  },
  {
   "cell_type": "markdown",
   "metadata": {
    "id": "gEa5pT6FQuta",
    "papermill": {
     "duration": 0.065543,
     "end_time": "2020-10-25T07:20:57.865894",
     "exception": false,
     "start_time": "2020-10-25T07:20:57.800351",
     "status": "completed"
    },
    "tags": []
   },
   "source": [
    "In Trax, we use combinators to build input pipelines, much like building deep learning models. The `Serial` combinator applies layers serially using function composition and uses stack semantics to manage data. \n",
    "\n",
    "Trax has the following definition for a `Serial` combinator.\n",
    "\n",
    "```\n",
    "def Serial(*fns):\n",
    "  def composed_fns(generator=None):\n",
    "    for f in fastmath.tree_flatten(fns):\n",
    "      generator = f(generator)\n",
    "    return generator\n",
    "  return composed_fns\n",
    "  ```\n",
    "\n",
    "The `Serial` function has the following structure:\n",
    "\n",
    "* It takes as **input** arbitrary number of functions\n",
    "* Convert the structure into lists\n",
    "* Iterate through the list and apply the functions Serially\n",
    "\n",
    "---\n",
    "\n",
    "The [`fastmath.tree_flatten()`](https://github.com/google/trax/blob/c38a5b1e4c5cfe13d156b3fc0bfdb83554c8f799/trax/fastmath/numpy.py#L195) function, takes a tree as a input and returns a flattened list. This way we can use various generator functions like Tokenize and Shuffle, and apply them serially by '*iterating*' through the list. \n",
    "\n",
    "Initially, we've defined `generator` to `None`. Thus, in the first iteration we have no input and thus the first step executes the first function in our tree structure. In the next iteration, the `generator` variable is updated to be the output of the next function in the list.\n"
   ]
  },
  {
   "cell_type": "markdown",
   "metadata": {
    "id": "1rkCvxscXtvk",
    "papermill": {
     "duration": 0.065882,
     "end_time": "2020-10-25T07:20:57.997453",
     "exception": false,
     "start_time": "2020-10-25T07:20:57.931571",
     "status": "completed"
    },
    "tags": []
   },
   "source": [
    "# 🖊 Log Function"
   ]
  },
  {
   "cell_type": "markdown",
   "metadata": {
    "id": "oodQFyHDYJHF",
    "papermill": {
     "duration": 0.065036,
     "end_time": "2020-10-25T07:20:58.128517",
     "exception": false,
     "start_time": "2020-10-25T07:20:58.063481",
     "status": "completed"
    },
    "tags": []
   },
   "source": [
    "```\n",
    "def Log(n_steps_per_example=1, only_shapes=True):\n",
    "  def log(stream):\n",
    "    counter = 0\n",
    "    for example in stream:\n",
    "      item_to_log = example\n",
    "      if only_shapes:\n",
    "        item_to_log = fastmath.nested_map(shapes.signature, example)\n",
    "      if counter % n_steps_per_example == 0:\n",
    "        logging.info(str(item_to_log))\n",
    "        print(item_to_log)\n",
    "      counter += 1\n",
    "      yield example\n",
    "  return log\n",
    "```\n",
    "Every Deep Learning Framework needs to have a logging component for efficient debugging. \n",
    "\n",
    "`trax.data.Log` generator uses the `absl` package for logging. It uses a [`fastmath.nested_map`](https://github.com/google/trax/blob/c38a5b1e4c5cfe13d156b3fc0bfdb83554c8f799/trax/fastmath/numpy.py#L80) function that maps a certain function recursively inside a object. In the case depicted below, the function maps the `shapes.signature` recursively inside the input stream, thus giving us the shapes of the various objects in our stream.\n",
    "\n",
    "---\n",
    "\n",
    "The following two cells show the difference between when we set the `only_shapes` variable to `False`"
   ]
  },
  {
   "cell_type": "code",
   "execution_count": 3,
   "metadata": {
    "execution": {
     "iopub.execute_input": "2020-10-25T07:20:58.269733Z",
     "iopub.status.busy": "2020-10-25T07:20:58.268961Z",
     "iopub.status.idle": "2020-10-25T07:22:10.294763Z",
     "shell.execute_reply": "2020-10-25T07:22:10.293772Z"
    },
    "id": "PqZZAYC4YlIt",
    "outputId": "aa36ceb1-65b1-4c65-83ae-c93d197759b7",
    "papermill": {
     "duration": 72.09981,
     "end_time": "2020-10-25T07:22:10.294898",
     "exception": false,
     "start_time": "2020-10-25T07:20:58.195088",
     "status": "completed"
    },
    "tags": []
   },
   "outputs": [
    {
     "name": "stdout",
     "output_type": "stream",
     "text": [
      "\u001b[1mDownloading and preparing dataset imdb_reviews/plain_text/1.0.0 (download: 80.23 MiB, generated: Unknown size, total: 80.23 MiB) to /root/tensorflow_datasets/imdb_reviews/plain_text/1.0.0...\u001b[0m\n"
     ]
    },
    {
     "data": {
      "application/vnd.jupyter.widget-view+json": {
       "model_id": "3ec07cd6bf1b44a195dc4fa358f06d5a",
       "version_major": 2,
       "version_minor": 0
      },
      "text/plain": [
       "HBox(children=(FloatProgress(value=1.0, bar_style='info', description='Dl Completed...', max=1.0, style=Progre…"
      ]
     },
     "metadata": {},
     "output_type": "display_data"
    },
    {
     "data": {
      "application/vnd.jupyter.widget-view+json": {
       "model_id": "fc2d253b40b7440e813d31757c3137ca",
       "version_major": 2,
       "version_minor": 0
      },
      "text/plain": [
       "HBox(children=(FloatProgress(value=1.0, bar_style='info', description='Dl Size...', max=1.0, style=ProgressSty…"
      ]
     },
     "metadata": {},
     "output_type": "display_data"
    },
    {
     "name": "stdout",
     "output_type": "stream",
     "text": [
      "\n",
      "\n",
      "\n",
      "\n"
     ]
    },
    {
     "data": {
      "application/vnd.jupyter.widget-view+json": {
       "model_id": "6de7af4f07504a838cce6b08da5493da",
       "version_major": 2,
       "version_minor": 0
      },
      "text/plain": [
       "HBox(children=(FloatProgress(value=1.0, bar_style='info', max=1.0), HTML(value='')))"
      ]
     },
     "metadata": {},
     "output_type": "display_data"
    },
    {
     "name": "stdout",
     "output_type": "stream",
     "text": [
      "Shuffling and writing examples to /root/tensorflow_datasets/imdb_reviews/plain_text/1.0.0.incompleteGOETE3/imdb_reviews-train.tfrecord\n"
     ]
    },
    {
     "data": {
      "application/vnd.jupyter.widget-view+json": {
       "model_id": "57bb10dd2c2b4a5dafd8df9f1ca98b6f",
       "version_major": 2,
       "version_minor": 0
      },
      "text/plain": [
       "HBox(children=(FloatProgress(value=0.0, max=25000.0), HTML(value='')))"
      ]
     },
     "metadata": {},
     "output_type": "display_data"
    },
    {
     "data": {
      "application/vnd.jupyter.widget-view+json": {
       "model_id": "afd531be76a8480585b9df27b724fc7d",
       "version_major": 2,
       "version_minor": 0
      },
      "text/plain": [
       "HBox(children=(FloatProgress(value=1.0, bar_style='info', max=1.0), HTML(value='')))"
      ]
     },
     "metadata": {},
     "output_type": "display_data"
    },
    {
     "name": "stdout",
     "output_type": "stream",
     "text": [
      "Shuffling and writing examples to /root/tensorflow_datasets/imdb_reviews/plain_text/1.0.0.incompleteGOETE3/imdb_reviews-test.tfrecord\n"
     ]
    },
    {
     "data": {
      "application/vnd.jupyter.widget-view+json": {
       "model_id": "23e844271ea44531b3f88baac6cca988",
       "version_major": 2,
       "version_minor": 0
      },
      "text/plain": [
       "HBox(children=(FloatProgress(value=0.0, max=25000.0), HTML(value='')))"
      ]
     },
     "metadata": {},
     "output_type": "display_data"
    },
    {
     "data": {
      "application/vnd.jupyter.widget-view+json": {
       "model_id": "b59ade8a267a4e8c82243ae9c7fe1f38",
       "version_major": 2,
       "version_minor": 0
      },
      "text/plain": [
       "HBox(children=(FloatProgress(value=1.0, bar_style='info', max=1.0), HTML(value='')))"
      ]
     },
     "metadata": {},
     "output_type": "display_data"
    },
    {
     "name": "stdout",
     "output_type": "stream",
     "text": [
      "Shuffling and writing examples to /root/tensorflow_datasets/imdb_reviews/plain_text/1.0.0.incompleteGOETE3/imdb_reviews-unsupervised.tfrecord\n"
     ]
    },
    {
     "data": {
      "application/vnd.jupyter.widget-view+json": {
       "model_id": "d43c92ae2c134f4bac823006a72aa423",
       "version_major": 2,
       "version_minor": 0
      },
      "text/plain": [
       "HBox(children=(FloatProgress(value=0.0, max=50000.0), HTML(value='')))"
      ]
     },
     "metadata": {},
     "output_type": "display_data"
    },
    {
     "name": "stdout",
     "output_type": "stream",
     "text": [
      "\u001b[1mDataset imdb_reviews downloaded and prepared to /root/tensorflow_datasets/imdb_reviews/plain_text/1.0.0. Subsequent calls will reuse this data.\u001b[0m\n",
      "(array([ 182,   31,   43, 5981,   67, 6322,  243, 3898,   22,    8, 2138,\n",
      "          2,   36,   47,   66,  597,  300,   10,   34, 3986, 2613,   64,\n",
      "       5281, 2367,    2,   46, 1902, 4713, 2942, 3461,    8, 4797,   55,\n",
      "       1466, 1351,  409,    3,  121,  114, 1622, 5622,   66,  124, 4106,\n",
      "         47, 1972,   10,  536,    8, 4533,    2,  124, 1466, 3207,   93,\n",
      "        449,   90,  407, 4860,   76,  114, 3898,   22,   36,    6, 2339,\n",
      "       5160,  275, 2395, 6293,  181,    8,  182, 3898,   22,   25,   43,\n",
      "        402, 4423,  794,  995, 3040, 2420, 2128,    2, 5116,    2,    8,\n",
      "         28,  180, 3166, 3171, 3839,   44,   80,  668,  232,    4, 1743,\n",
      "       3661,  239, 3082, 4076,   80, 2067,  124, 2700,   35, 3854, 1052,\n",
      "        221,    8, 6149, 5481, 4607,   12,  547, 2942,   75, 4445, 3054,\n",
      "         29,    3,    7,  245, 5372, 1135,   75,   14, 3304,    2, 4935,\n",
      "       1197,   39, 5281, 2367,    2,   31, 5032, 2528,  121,   12, 3166,\n",
      "       3171, 5888, 5403,    2, 2305,   93,   10,   12, 3898,   22,   37,\n",
      "         31, 3060, 2558,    2,    5,  345, 2715, 2213,    8,  139,  907,\n",
      "       2133, 1051, 2390,  200,   37,  266,   55, 3898,   44,  461,  114,\n",
      "          3, 4269, 1264,  617,   36,    6,  461, 3986, 2613,   64, 5281,\n",
      "       2367,    2,   36,    6, 2730,  177,    8,  139,  449, 1120,  839,\n",
      "       4198,    2,  340,   71,   21]), 0)\n",
      "(array([ 182,   31,   43, 5981,   67, 6322,  243, 3898,   22,    8, 2138,\n",
      "          2,   36,   47,   66,  597,  300,   10,   34, 3986, 2613,   64,\n",
      "       5281, 2367,    2,   46, 1902, 4713, 2942, 3461,    8, 4797,   55,\n",
      "       1466, 1351,  409,    3,  121,  114, 1622, 5622,   66,  124, 4106,\n",
      "         47, 1972,   10,  536,    8, 4533,    2,  124, 1466, 3207,   93,\n",
      "        449,   90,  407, 4860,   76,  114, 3898,   22,   36,    6, 2339,\n",
      "       5160,  275, 2395, 6293,  181,    8,  182, 3898,   22,   25,   43,\n",
      "        402, 4423,  794,  995, 3040, 2420, 2128,    2, 5116,    2,    8,\n",
      "         28,  180, 3166, 3171, 3839,   44,   80,  668,  232,    4, 1743,\n",
      "       3661,  239, 3082, 4076,   80, 2067,  124, 2700,   35, 3854, 1052,\n",
      "        221,    8, 6149, 5481, 4607,   12,  547, 2942,   75, 4445, 3054,\n",
      "         29,    3,    7,  245, 5372, 1135,   75,   14, 3304,    2, 4935,\n",
      "       1197,   39, 5281, 2367,    2,   31, 5032, 2528,  121,   12, 3166,\n",
      "       3171, 5888, 5403,    2, 2305,   93,   10,   12, 3898,   22,   37,\n",
      "         31, 3060, 2558,    2,    5,  345, 2715, 2213,    8,  139,  907,\n",
      "       2133, 1051, 2390,  200,   37,  266,   55, 3898,   44,  461,  114,\n",
      "          3, 4269, 1264,  617,   36,    6,  461, 3986, 2613,   64, 5281,\n",
      "       2367,    2,   36,    6, 2730,  177,    8,  139,  449, 1120,  839,\n",
      "       4198,    2,  340,   71,   21]), 0)\n"
     ]
    }
   ],
   "source": [
    "data_pipeline = trax.data.Serial(\n",
    "    trax.data.TFDS('imdb_reviews', keys=('text', 'label'), train=True),\n",
    "    trax.data.Tokenize(vocab_dir='gs://trax-ml/vocabs/', vocab_file='en_8k.subword', keys=[0]),\n",
    "    trax.data.Log(only_shapes=False)\n",
    "  )\n",
    "example = data_pipeline()\n",
    "print(next(example))"
   ]
  },
  {
   "cell_type": "code",
   "execution_count": 4,
   "metadata": {
    "execution": {
     "iopub.execute_input": "2020-10-25T07:22:10.453319Z",
     "iopub.status.busy": "2020-10-25T07:22:10.452200Z",
     "iopub.status.idle": "2020-10-25T07:22:10.704510Z",
     "shell.execute_reply": "2020-10-25T07:22:10.703418Z"
    },
    "id": "uyqL-JMCaGn0",
    "outputId": "dfd51b28-159c-41b7-ba2a-39e95b1e3964",
    "papermill": {
     "duration": 0.334749,
     "end_time": "2020-10-25T07:22:10.704693",
     "exception": false,
     "start_time": "2020-10-25T07:22:10.369944",
     "status": "completed"
    },
    "tags": []
   },
   "outputs": [
    {
     "name": "stdout",
     "output_type": "stream",
     "text": [
      "(ShapeDtype{shape:(203,), dtype:int64}, ShapeDtype{shape:(), dtype:int64})\n",
      "(array([ 182,   31,   43, 5981,   67, 6322,  243, 3898,   22,    8, 2138,\n",
      "          2,   36,   47,   66,  597,  300,   10,   34, 3986, 2613,   64,\n",
      "       5281, 2367,    2,   46, 1902, 4713, 2942, 3461,    8, 4797,   55,\n",
      "       1466, 1351,  409,    3,  121,  114, 1622, 5622,   66,  124, 4106,\n",
      "         47, 1972,   10,  536,    8, 4533,    2,  124, 1466, 3207,   93,\n",
      "        449,   90,  407, 4860,   76,  114, 3898,   22,   36,    6, 2339,\n",
      "       5160,  275, 2395, 6293,  181,    8,  182, 3898,   22,   25,   43,\n",
      "        402, 4423,  794,  995, 3040, 2420, 2128,    2, 5116,    2,    8,\n",
      "         28,  180, 3166, 3171, 3839,   44,   80,  668,  232,    4, 1743,\n",
      "       3661,  239, 3082, 4076,   80, 2067,  124, 2700,   35, 3854, 1052,\n",
      "        221,    8, 6149, 5481, 4607,   12,  547, 2942,   75, 4445, 3054,\n",
      "         29,    3,    7,  245, 5372, 1135,   75,   14, 3304,    2, 4935,\n",
      "       1197,   39, 5281, 2367,    2,   31, 5032, 2528,  121,   12, 3166,\n",
      "       3171, 5888, 5403,    2, 2305,   93,   10,   12, 3898,   22,   37,\n",
      "         31, 3060, 2558,    2,    5,  345, 2715, 2213,    8,  139,  907,\n",
      "       2133, 1051, 2390,  200,   37,  266,   55, 3898,   44,  461,  114,\n",
      "          3, 4269, 1264,  617,   36,    6,  461, 3986, 2613,   64, 5281,\n",
      "       2367,    2,   36,    6, 2730,  177,    8,  139,  449, 1120,  839,\n",
      "       4198,    2,  340,   71,   21]), 0)\n"
     ]
    }
   ],
   "source": [
    "data_pipeline = trax.data.Serial(\n",
    "    trax.data.TFDS('imdb_reviews', keys=('text', 'label'), train=True),\n",
    "    trax.data.Tokenize(vocab_dir='gs://trax-ml/vocabs/', vocab_file='en_8k.subword', keys=[0]),\n",
    "    trax.data.Log(only_shapes=True)\n",
    "  )\n",
    "example = data_pipeline()\n",
    "print(next(example))"
   ]
  },
  {
   "cell_type": "markdown",
   "metadata": {
    "id": "Wy8L-e9qcRY4",
    "papermill": {
     "duration": 0.075233,
     "end_time": "2020-10-25T07:22:10.855980",
     "exception": false,
     "start_time": "2020-10-25T07:22:10.780747",
     "status": "completed"
    },
    "tags": []
   },
   "source": [
    "# 🃏 Shuffling our datasets"
   ]
  },
  {
   "cell_type": "markdown",
   "metadata": {
    "id": "-cfg48KgcrlM",
    "papermill": {
     "duration": 0.074285,
     "end_time": "2020-10-25T07:22:11.004654",
     "exception": false,
     "start_time": "2020-10-25T07:22:10.930369",
     "status": "completed"
    },
    "tags": []
   },
   "source": [
    "Trax offers two generator functions to add shuffle functionality in our input pipelines. \n",
    "\n",
    "1. The `shuffle` function shuffles a given stream\n",
    "2. The `Shuffle` function returns a shuffle function instead"
   ]
  },
  {
   "cell_type": "markdown",
   "metadata": {
    "id": "4iD21oiycWf4",
    "papermill": {
     "duration": 0.074894,
     "end_time": "2020-10-25T07:22:11.154007",
     "exception": false,
     "start_time": "2020-10-25T07:22:11.079113",
     "status": "completed"
    },
    "tags": []
   },
   "source": [
    "## shuffle"
   ]
  },
  {
   "cell_type": "markdown",
   "metadata": {
    "id": "bVgN1yYAcaKM",
    "papermill": {
     "duration": 0.074443,
     "end_time": "2020-10-25T07:22:11.304069",
     "exception": false,
     "start_time": "2020-10-25T07:22:11.229626",
     "status": "completed"
    },
    "tags": []
   },
   "source": [
    "```\n",
    "def shuffle(samples, queue_size):\n",
    "  if queue_size < 1:\n",
    "    raise ValueError(f'Arg queue_size ({queue_size}) is less than 1.')\n",
    "  if queue_size == 1:\n",
    "    logging.warning('Queue size of 1 results in no shuffling.')\n",
    "  queue = []\n",
    "  try:\n",
    "      queue.append(next(samples))\n",
    "      i = np.random.randint(queue_size)\n",
    "      yield queue[i]\n",
    "      queue[i] = sample\n",
    "  except StopIteration:\n",
    "    logging.warning(\n",
    "        'Not enough samples (%d) to fill initial queue (size %d).',\n",
    "        len(queue), queue_size)\n",
    "  np.random.shuffle(queue)\n",
    "  for sample in queue:\n",
    "    yield sample\n",
    "```\n",
    "\n",
    "\n",
    "The `shuffle` function takes two inputs, the data stream and the queue size (minimum number of samples within which the shuffling takes place). Apart from the usual warnings, for negative and unity queue sizes, this generator function shuffles the given stream using [`np.random.randint()`](https://docs.python.org/3/library/random.html#random.randint) by randomly picks out integers using the `queue_size` as a range and then shuffle this new stream again using the [`np.random.shuffle()`](https://docs.python.org/3/library/random.html#random.shuffle)"
   ]
  },
  {
   "cell_type": "code",
   "execution_count": 5,
   "metadata": {
    "execution": {
     "iopub.execute_input": "2020-10-25T07:22:11.464125Z",
     "iopub.status.busy": "2020-10-25T07:22:11.463225Z",
     "iopub.status.idle": "2020-10-25T07:22:11.467559Z",
     "shell.execute_reply": "2020-10-25T07:22:11.466843Z"
    },
    "id": "-kdz2fNIfn2l",
    "outputId": "110aa969-dab0-4e7a-e75f-41a6ab2fe0c4",
    "papermill": {
     "duration": 0.088831,
     "end_time": "2020-10-25T07:22:11.467682",
     "exception": false,
     "start_time": "2020-10-25T07:22:11.378851",
     "status": "completed"
    },
    "tags": []
   },
   "outputs": [
    {
     "data": {
      "text/plain": [
       "['But I must explain to you how all this mistaken idea of denouncing pleasure and praising pain was born and I will give you a complete account of the system, and expound the actual teachings of the great explorer of the truth, the master-builder of human happiness. No one rejects, dislikes, or avoids pleasure itself, because it is pleasure, but because those who do not know how to pursue pleasure rationally encounter consequences that are extremely painful. Nor again is there anyone who loves or pursues or desires to obtain pain of itself, because it is pain, but because occasionally circumstances occur in which toil and pain can procure him some great pleasure. To take a trivial example, which of us ever undertakes laborious physical exercise, except to obtain some advantage from it? But who has any right to find fault with a man who chooses to enjoy a pleasure that has no annoying consequences, or one who avoids a pain that produces no resultant pleasure?',\n",
       " 'Lorem ipsum dolor sit amet, consectetur adipiscing elit, sed do eiusmod tempor incididunt ut labore et dolore magna aliqua. Ut enim ad minim veniam, quis nostrud exercitation ullamco laboris nisi ut aliquip ex ea commodo consequat. Duis aute irure dolor in reprehenderit in voluptate velit esse cillum dolore eu fugiat nulla pariatur. Excepteur sint occaecat cupidatat non proident, sunt in culpa qui officia deserunt mollit anim id est laborum',\n",
       " 'At vero eos et accusamus et iusto odio dignissimos ducimus qui blanditiis praesentium voluptatum deleniti atque corrupti quos dolores et quas molestias excepturi sint occaecati cupiditate non provident, similique sunt in culpa qui officia deserunt mollitia animi, id est laborum et dolorum fuga. Et harum quidem rerum facilis est et expedita distinctio. Nam libero tempore, cum soluta nobis est eligendi optio cumque nihil impedit quo minus id quod maxime placeat facere possimus, omnis voluptas assumenda est, omnis dolor repellendus. Temporibus autem quibusdam et aut officiis debitis aut rerum necessitatibus saepe eveniet ut et voluptates repudiandae sint et molestiae non recusandae. Itaque earum rerum hic tenetur a sapiente delectus, ut aut reiciendis voluptatibus maiores alias consequatur aut perferendis doloribus asperiores repellat.',\n",
       " 'Sed ut perspiciatis unde omnis iste natus error sit voluptatem accusantium doloremque laudantium, totam rem aperiam, eaque ipsa quae ab illo inventore veritatis et quasi architecto beatae vitae dicta sunt explicabo. Nemo enim ipsam voluptatem quia voluptas sit aspernatur aut odit aut fugit, sed quia consequuntur magni dolores eos qui ratione voluptatem sequi nesciunt. Neque porro quisquam est, qui dolorem ipsum quia dolor sit amet, consectetur, adipisci velit, sed quia non numquam eius modi tempora incidunt ut labore et dolore magnam aliquam quaerat voluptatem. Ut enim ad minima veniam, quis nostrum exercitationem ullam corporis suscipit laboriosam, nisi ut aliquid ex ea commodi consequatur? Quis autem vel eum iure reprehenderit qui in ea voluptate velit esse quam nihil molestiae consequatur, vel illum qui dolorem eum fugiat quo voluptas nulla pariatur?']"
      ]
     },
     "execution_count": 5,
     "metadata": {},
     "output_type": "execute_result"
    }
   ],
   "source": [
    "sentence = ['Sed ut perspiciatis unde omnis iste natus error sit voluptatem accusantium doloremque laudantium, totam rem aperiam, eaque ipsa quae ab illo inventore veritatis et quasi architecto beatae vitae dicta sunt explicabo. Nemo enim ipsam voluptatem quia voluptas sit aspernatur aut odit aut fugit, sed quia consequuntur magni dolores eos qui ratione voluptatem sequi nesciunt. Neque porro quisquam est, qui dolorem ipsum quia dolor sit amet, consectetur, adipisci velit, sed quia non numquam eius modi tempora incidunt ut labore et dolore magnam aliquam quaerat voluptatem. Ut enim ad minima veniam, quis nostrum exercitationem ullam corporis suscipit laboriosam, nisi ut aliquid ex ea commodi consequatur? Quis autem vel eum iure reprehenderit qui in ea voluptate velit esse quam nihil molestiae consequatur, vel illum qui dolorem eum fugiat quo voluptas nulla pariatur?',\n",
    "            'But I must explain to you how all this mistaken idea of denouncing pleasure and praising pain was born and I will give you a complete account of the system, and expound the actual teachings of the great explorer of the truth, the master-builder of human happiness. No one rejects, dislikes, or avoids pleasure itself, because it is pleasure, but because those who do not know how to pursue pleasure rationally encounter consequences that are extremely painful. Nor again is there anyone who loves or pursues or desires to obtain pain of itself, because it is pain, but because occasionally circumstances occur in which toil and pain can procure him some great pleasure. To take a trivial example, which of us ever undertakes laborious physical exercise, except to obtain some advantage from it? But who has any right to find fault with a man who chooses to enjoy a pleasure that has no annoying consequences, or one who avoids a pain that produces no resultant pleasure?',\n",
    "            'Lorem ipsum dolor sit amet, consectetur adipiscing elit, sed do eiusmod tempor incididunt ut labore et dolore magna aliqua. Ut enim ad minim veniam, quis nostrud exercitation ullamco laboris nisi ut aliquip ex ea commodo consequat. Duis aute irure dolor in reprehenderit in voluptate velit esse cillum dolore eu fugiat nulla pariatur. Excepteur sint occaecat cupidatat non proident, sunt in culpa qui officia deserunt mollit anim id est laborum',\n",
    "            'At vero eos et accusamus et iusto odio dignissimos ducimus qui blanditiis praesentium voluptatum deleniti atque corrupti quos dolores et quas molestias excepturi sint occaecati cupiditate non provident, similique sunt in culpa qui officia deserunt mollitia animi, id est laborum et dolorum fuga. Et harum quidem rerum facilis est et expedita distinctio. Nam libero tempore, cum soluta nobis est eligendi optio cumque nihil impedit quo minus id quod maxime placeat facere possimus, omnis voluptas assumenda est, omnis dolor repellendus. Temporibus autem quibusdam et aut officiis debitis aut rerum necessitatibus saepe eveniet ut et voluptates repudiandae sint et molestiae non recusandae. Itaque earum rerum hic tenetur a sapiente delectus, ut aut reiciendis voluptatibus maiores alias consequatur aut perferendis doloribus asperiores repellat.']\n",
    "\n",
    "def sample_generator(x):\n",
    "  for i in x:\n",
    "    yield i\n",
    "\n",
    "example_shuffle = list(trax.data.inputs.shuffle(sample_generator(sentence), queue_size = 2))\n",
    "example_shuffle"
   ]
  },
  {
   "cell_type": "markdown",
   "metadata": {
    "id": "k-kTDkF-e7Vn",
    "papermill": {
     "duration": 0.075152,
     "end_time": "2020-10-25T07:22:11.618246",
     "exception": false,
     "start_time": "2020-10-25T07:22:11.543094",
     "status": "completed"
    },
    "tags": []
   },
   "source": [
    "## Shuffle"
   ]
  },
  {
   "cell_type": "markdown",
   "metadata": {
    "id": "I5Djvqw2e9Jg",
    "papermill": {
     "duration": 0.075562,
     "end_time": "2020-10-25T07:22:11.768773",
     "exception": false,
     "start_time": "2020-10-25T07:22:11.693211",
     "status": "completed"
    },
    "tags": []
   },
   "source": [
    "```\n",
    "def Shuffle(queue_size=1024): \n",
    "  return lambda g: shuffle(g, queue_size)\n",
    "```\n",
    "\n",
    "This function returns the aforementioned `shuffle` function and is mostly used in input pipelines.\n"
   ]
  },
  {
   "cell_type": "markdown",
   "metadata": {
    "id": "AA-Z4Sipkq98",
    "papermill": {
     "duration": 0.074366,
     "end_time": "2020-10-25T07:22:11.918234",
     "exception": false,
     "start_time": "2020-10-25T07:22:11.843868",
     "status": "completed"
    },
    "tags": []
   },
   "source": [
    "# 👨‍👩‍👧‍👦 Batch Generators"
   ]
  },
  {
   "cell_type": "markdown",
   "metadata": {
    "id": "yzwONDulksbd",
    "papermill": {
     "duration": 0.075517,
     "end_time": "2020-10-25T07:22:12.069798",
     "exception": false,
     "start_time": "2020-10-25T07:22:11.994281",
     "status": "completed"
    },
    "tags": []
   },
   "source": [
    "## batch"
   ]
  },
  {
   "cell_type": "markdown",
   "metadata": {
    "id": "-DCABkndkudF",
    "papermill": {
     "duration": 0.076777,
     "end_time": "2020-10-25T07:22:12.222636",
     "exception": false,
     "start_time": "2020-10-25T07:22:12.145859",
     "status": "completed"
    },
    "tags": []
   },
   "source": [
    "This function, creates batches for the input generator function.\n",
    "\n",
    "```\n",
    "def batch(generator, batch_size):\n",
    "  if batch_size <= 0:\n",
    "    raise ValueError(f'Batch size must be positive, but is {batch_size}.')\n",
    "  buf = []\n",
    "  for example in generator:\n",
    "    buf.append(example)  \n",
    "    if len(buf) == batch_size:\n",
    "      batched_example = tuple(np.stack(x) for x in zip(*buf))\n",
    "      yield batched_example\n",
    "      buf = []\n",
    "```\n",
    "\n",
    "It keeps adding objects from the generator into a list until the size becomes equal to the `batch_size` and then creates batches using the `np.stack()` function.\n",
    "\n",
    "It also raises an error for non-positive batch_sizes.\n"
   ]
  },
  {
   "cell_type": "markdown",
   "metadata": {
    "id": "BZMKY6VUpD3M",
    "papermill": {
     "duration": 0.075574,
     "end_time": "2020-10-25T07:22:12.375558",
     "exception": false,
     "start_time": "2020-10-25T07:22:12.299984",
     "status": "completed"
    },
    "tags": []
   },
   "source": [
    "## Batch"
   ]
  },
  {
   "cell_type": "markdown",
   "metadata": {
    "id": "g6pYJHgOpIG4",
    "papermill": {
     "duration": 0.075983,
     "end_time": "2020-10-25T07:22:12.528055",
     "exception": false,
     "start_time": "2020-10-25T07:22:12.452072",
     "status": "completed"
    },
    "tags": []
   },
   "source": [
    "```\n",
    "    def Batch(batch_size):  \n",
    "      return lambda g: batch(g, batch_size)\n",
    "```\n",
    "\n",
    "This Function returns the aforementioned `batch` function with given batch size."
   ]
  },
  {
   "cell_type": "markdown",
   "metadata": {
    "id": "cmQzaXw9vrbW",
    "papermill": {
     "duration": 0.074972,
     "end_time": "2020-10-25T07:22:12.681122",
     "exception": false,
     "start_time": "2020-10-25T07:22:12.606150",
     "status": "completed"
    },
    "tags": []
   },
   "source": [
    "# 🚧 Pad to Maximum Dimensions"
   ]
  },
  {
   "cell_type": "markdown",
   "metadata": {
    "id": "iL3MuKQIvt-Q",
    "papermill": {
     "duration": 0.080786,
     "end_time": "2020-10-25T07:22:12.836733",
     "exception": false,
     "start_time": "2020-10-25T07:22:12.755947",
     "status": "completed"
    },
    "tags": []
   },
   "source": [
    "This function is used to pad a tuple of tensors to a joint dimension and return their batch.\n",
    "\n",
    "For example, in this case a pair of tensors (1,2) and ( (3,4) , (5,6) ) is changed to (1,2,0) and ( (3,4) , (5,6) , 0)"
   ]
  },
  {
   "cell_type": "code",
   "execution_count": 6,
   "metadata": {
    "execution": {
     "iopub.execute_input": "2020-10-25T07:22:13.004897Z",
     "iopub.status.busy": "2020-10-25T07:22:13.003688Z",
     "iopub.status.idle": "2020-10-25T07:22:13.007733Z",
     "shell.execute_reply": "2020-10-25T07:22:13.008457Z"
    },
    "id": "lvbBDuq4p4qW",
    "outputId": "ed69c541-3219-4a23-cf73-4568e3e2882f",
    "papermill": {
     "duration": 0.088137,
     "end_time": "2020-10-25T07:22:13.008625",
     "exception": false,
     "start_time": "2020-10-25T07:22:12.920488",
     "status": "completed"
    },
    "tags": []
   },
   "outputs": [
    {
     "data": {
      "text/plain": [
       "array([[1.0, 2.0, 0],\n",
       "       [(3.0, 4.0), (5.0, 6.0), 0]], dtype=object)"
      ]
     },
     "execution_count": 6,
     "metadata": {},
     "output_type": "execute_result"
    }
   ],
   "source": [
    "import numpy as np\n",
    "\n",
    "tensors = np.array([(1.,2.),\n",
    "           ((3.,4.),(5.,6.))])\n",
    "padded_tensors = trax.data.inputs.pad_to_max_dims(tensors=tensors, boundary=3)\n",
    "padded_tensors"
   ]
  },
  {
   "cell_type": "markdown",
   "metadata": {
    "id": "PDQQYCdLOkl1",
    "papermill": {
     "duration": 0.074839,
     "end_time": "2020-10-25T07:22:13.159353",
     "exception": false,
     "start_time": "2020-10-25T07:22:13.084514",
     "status": "completed"
    },
    "tags": []
   },
   "source": [
    "# 📦 Creating Buckets"
   ]
  },
  {
   "cell_type": "markdown",
   "metadata": {
    "id": "RjGD3YKJWj58",
    "papermill": {
     "duration": 0.075139,
     "end_time": "2020-10-25T07:22:13.311749",
     "exception": false,
     "start_time": "2020-10-25T07:22:13.236610",
     "status": "completed"
    },
    "tags": []
   },
   "source": [
    "For training Recurrent Neural Networks, with large vocabulary a method called Bucketing is usually applied. \n",
    "\n",
    "The usual technique of using padding ensures that all occurences within a mini-batch are of the same length. But this reduces the inter-batch variability and intuitively puts similar sentences into the same batch therefore, reducing the overall robustness of the system. \n",
    "\n",
    "Thus, we use Bucketing where multiple buckets are created depending on the length of the sentences and these occurences are assigned to buckets on the basis of which bucket corresponds to it's length. We need to ensure that the bucket sizes are large for adding some variablity to the system."
   ]
  },
  {
   "cell_type": "markdown",
   "metadata": {
    "id": "17z3ASA-OrSF",
    "papermill": {
     "duration": 0.075627,
     "end_time": "2020-10-25T07:22:13.462765",
     "exception": false,
     "start_time": "2020-10-25T07:22:13.387138",
     "status": "completed"
    },
    "tags": []
   },
   "source": [
    "## bucket_by_length\n",
    "\n"
   ]
  },
  {
   "cell_type": "markdown",
   "metadata": {
    "id": "rf5trhANYpy5",
    "papermill": {
     "duration": 0.084933,
     "end_time": "2020-10-25T07:22:13.623663",
     "exception": false,
     "start_time": "2020-10-25T07:22:13.538730",
     "status": "completed"
    },
    "tags": []
   },
   "source": [
    "```\n",
    "def bucket_by_length(generator, length_fn, boundaries, batch_sizes,strict_pad_on_len=False):\n",
    "  buckets = [[] for _ in range(len(batch_sizes))]\n",
    "  boundaries = boundaries + [math.inf] \n",
    "  for example in generator:\n",
    "    length = length_fn(example)\n",
    "    bucket_idx = min([i for i, b in enumerate(boundaries) if length <= b])\n",
    "    buckets[bucket_idx].append(example)\n",
    "    if len(buckets[bucket_idx]) == batch_sizes[bucket_idx]:\n",
    "      batched = zip(*buckets[bucket_idx])\n",
    "      boundary = boundaries[bucket_idx]\n",
    "      boundary = None if boundary == math.inf else boundary\n",
    "      padded_batch = tuple(\n",
    "          pad_to_max_dims(x, boundary, strict_pad_on_len) for x in batched)\n",
    "      yield padded_batch\n",
    "      buckets[bucket_idx] = []\n",
    "```\n",
    "---\n",
    "\n",
    "This function can be summarised as:\n",
    "\n",
    "* Create buckets as per the lengths given in the `batch_sizes` array\n",
    "\n",
    "* Assign sentences into buckets if their length matches the bucket size\n",
    "\n",
    "* If padding is required, we use the `pad_to_max_dims` function\n",
    "\n",
    "---\n",
    "\n",
    "### Parameters\n",
    "\n",
    "1. **generator:** The input generator function\n",
    "2. **length_fn:** A custom length function for determing the length of functions, not necessarily `len()`\n",
    "3. **boundaries:** A python list containing corresponding bucket boundaries\n",
    "4. **batch_sizes:** A python list containing batch sizes\n",
    "5. **strict_pad_on_len:**  A python boolean variable (`True` or `False`). If set to true then the function pads on the length dimension, where dim[0] is strictly a multiple of boundary.\n",
    " "
   ]
  },
  {
   "cell_type": "markdown",
   "metadata": {
    "id": "c0uQZaaPVyF_",
    "papermill": {
     "duration": 0.075284,
     "end_time": "2020-10-25T07:22:13.791066",
     "exception": false,
     "start_time": "2020-10-25T07:22:13.715782",
     "status": "completed"
    },
    "tags": []
   },
   "source": [
    "## BucketByLength"
   ]
  },
  {
   "cell_type": "markdown",
   "metadata": {
    "id": "Qhh21q71aX3l",
    "papermill": {
     "duration": 0.075007,
     "end_time": "2020-10-25T07:22:13.941733",
     "exception": false,
     "start_time": "2020-10-25T07:22:13.866726",
     "status": "completed"
    },
    "tags": []
   },
   "source": [
    "```\n",
    "def BucketByLength(boundaries, batch_sizes,length_keys=None, length_axis=0, strict_pad_on_len=False):\n",
    "  length_keys = length_keys or [0, 1]\n",
    "  length_fn = lambda x: _length_fn(x, length_axis, length_keys)\n",
    "  return lambda g: bucket_by_length(g, length_fn, boundaries, batch_sizes, strict_pad_on_len)\n",
    "```\n",
    "---\n",
    "\n",
    "This function, is usually used inside input pipelines(*combinators*) and uses the afforementioned `bucket_by_length`. It applies a predefined `length_fn` which chooses the maximum shape on length_axis over length_keys.\n",
    "\n",
    "It's use is illustrated below"
   ]
  },
  {
   "cell_type": "code",
   "execution_count": 7,
   "metadata": {
    "execution": {
     "iopub.execute_input": "2020-10-25T07:22:14.105005Z",
     "iopub.status.busy": "2020-10-25T07:22:14.104152Z",
     "iopub.status.idle": "2020-10-25T07:22:14.451130Z",
     "shell.execute_reply": "2020-10-25T07:22:14.450335Z"
    },
    "id": "PFeqDQNsV0PV",
    "outputId": "ab9139c1-de56-4570-bcb6-731c1b475b12",
    "papermill": {
     "duration": 0.433317,
     "end_time": "2020-10-25T07:22:14.451300",
     "exception": false,
     "start_time": "2020-10-25T07:22:14.017983",
     "status": "completed"
    },
    "tags": []
   },
   "outputs": [
    {
     "name": "stdout",
     "output_type": "stream",
     "text": [
      "(ShapeDtype{shape:(8, 2048), dtype:int64}, ShapeDtype{shape:(8,), dtype:int64})\n",
      "(array([[ 155,  452,   29, ...,    0,    0,    0],\n",
      "       [ 182, 1989, 1826, ...,    0,    0,    0],\n",
      "       [1389, 2597, 5378, ...,    0,    0,    0],\n",
      "       ...,\n",
      "       [4846, 1008,    2, ...,    0,    0,    0],\n",
      "       [  68,   12,  173, ...,    0,    0,    0],\n",
      "       [ 186, 3817, 2064, ...,    0,    0,    0]]), array([0, 1, 1, 1, 1, 0, 1, 0]))\n"
     ]
    }
   ],
   "source": [
    "data_pipeline = trax.data.Serial(\n",
    "    trax.data.TFDS('imdb_reviews', keys=('text', 'label'), train=True),\n",
    "    trax.data.Tokenize(vocab_dir='gs://trax-ml/vocabs/', vocab_file='en_8k.subword', keys=[0]),\n",
    "    trax.data.BucketByLength(boundaries=[32, 128, 512, 2048],\n",
    "                             batch_sizes=[512, 128,  32,    8, 1],\n",
    "                             length_keys=[0]),\n",
    "    trax.data.Log(only_shapes=True)\n",
    "  )\n",
    "example = data_pipeline()\n",
    "print(next(example))"
   ]
  },
  {
   "cell_type": "markdown",
   "metadata": {
    "id": "9D0YdAT_ceSN",
    "papermill": {
     "duration": 0.077137,
     "end_time": "2020-10-25T07:22:14.604682",
     "exception": false,
     "start_time": "2020-10-25T07:22:14.527545",
     "status": "completed"
    },
    "tags": []
   },
   "source": [
    "# 🛍 Filter by Length"
   ]
  },
  {
   "cell_type": "markdown",
   "metadata": {
    "id": "YLvi4Wu-eFAF",
    "papermill": {
     "duration": 0.076479,
     "end_time": "2020-10-25T07:22:14.758495",
     "exception": false,
     "start_time": "2020-10-25T07:22:14.682016",
     "status": "completed"
    },
    "tags": []
   },
   "source": [
    "```\n",
    "def FilterByLength(max_length,length_keys=None, length_axis=0):\n",
    "  length_keys = length_keys or [0, 1]\n",
    "  length_fn = lambda x: _length_fn(x, length_axis, length_keys)\n",
    "  def filtered(gen):\n",
    "    for example in gen:\n",
    "      if length_fn(example) <= max_length:\n",
    "        yield example\n",
    "  return filtered\n",
    "```\n",
    "---\n",
    "\n",
    "This function used the same predefined `length_fn` to only include those instances which are less than the given `max_length` parameter.\n"
   ]
  },
  {
   "cell_type": "code",
   "execution_count": 8,
   "metadata": {
    "execution": {
     "iopub.execute_input": "2020-10-25T07:22:14.922655Z",
     "iopub.status.busy": "2020-10-25T07:22:14.921794Z",
     "iopub.status.idle": "2020-10-25T07:22:15.278007Z",
     "shell.execute_reply": "2020-10-25T07:22:15.277336Z"
    },
    "id": "qyueQ1z-cg2p",
    "outputId": "da007ab0-e719-4044-e6a4-6bba5f43131e",
    "papermill": {
     "duration": 0.443293,
     "end_time": "2020-10-25T07:22:15.278150",
     "exception": false,
     "start_time": "2020-10-25T07:22:14.834857",
     "status": "completed"
    },
    "tags": []
   },
   "outputs": [
    {
     "name": "stdout",
     "output_type": "stream",
     "text": [
      "(ShapeDtype{shape:(8, 2048), dtype:int64}, ShapeDtype{shape:(8,), dtype:int64})\n",
      "(array([[ 155,  452,   29, ...,    0,    0,    0],\n",
      "       [ 182, 1989, 1826, ...,    0,    0,    0],\n",
      "       [1389, 2597, 5378, ...,    0,    0,    0],\n",
      "       ...,\n",
      "       [4846, 1008,    2, ...,    0,    0,    0],\n",
      "       [  68,   12,  173, ...,    0,    0,    0],\n",
      "       [ 186, 3817, 2064, ...,    0,    0,    0]]), array([0, 1, 1, 1, 1, 0, 1, 0]))\n"
     ]
    }
   ],
   "source": [
    "Filtered = trax.data.Serial(\n",
    "    trax.data.TFDS('imdb_reviews', keys=('text', 'label'), train=True),\n",
    "    trax.data.Tokenize(vocab_dir='gs://trax-ml/vocabs/', vocab_file='en_8k.subword', keys=[0]),\n",
    "    trax.data.BucketByLength(boundaries=[32, 128, 512, 2048],\n",
    "                             batch_sizes=[512, 128,  32,    8, 1],\n",
    "                             length_keys=[0]),\n",
    "    trax.data.FilterByLength(max_length=2048, length_keys=[0]),\n",
    "    trax.data.Log(only_shapes=True)\n",
    "  )\n",
    "filtered_example = Filtered()\n",
    "print(next(filtered_example))"
   ]
  },
  {
   "cell_type": "markdown",
   "metadata": {
    "id": "1XRrJSsUeZX-",
    "papermill": {
     "duration": 0.077616,
     "end_time": "2020-10-25T07:22:15.433594",
     "exception": false,
     "start_time": "2020-10-25T07:22:15.355978",
     "status": "completed"
    },
    "tags": []
   },
   "source": [
    "# 🗄 Adding Loss Weights"
   ]
  },
  {
   "cell_type": "markdown",
   "metadata": {
    "id": "P3ySYhnpejy4",
    "papermill": {
     "duration": 0.07734,
     "end_time": "2020-10-25T07:22:15.619135",
     "exception": false,
     "start_time": "2020-10-25T07:22:15.541795",
     "status": "completed"
    },
    "tags": []
   },
   "source": [
    "## add_loss_weights"
   ]
  },
  {
   "cell_type": "markdown",
   "metadata": {
    "id": "QgaXAlhgeuQv",
    "papermill": {
     "duration": 0.087065,
     "end_time": "2020-10-25T07:22:15.791964",
     "exception": false,
     "start_time": "2020-10-25T07:22:15.704899",
     "status": "completed"
    },
    "tags": []
   },
   "source": [
    "```\n",
    "def add_loss_weights(generator, id_to_mask=None):\n",
    "  for example in generator:\n",
    "    if len(example) > 3 or len(example) < 2:\n",
    "      assert id_to_mask is None, 'Cannot automatically mask this stream.'\n",
    "      yield example\n",
    "    else:\n",
    "      if len(example) == 2:\n",
    "        weights = np.ones_like(example[1]).astype(np.float32)\n",
    "      else:\n",
    "        weights = example[2].astype(np.float32)\n",
    "      mask = 1.0 - np.equal(example[1], id_to_mask).astype(np.float32)\n",
    "      weights *= mask\n",
    "      yield (example[0], example[1], weights)\n",
    "```\n",
    "---\n",
    "\n",
    "This function essentially adds a loss mask (tensor of ones of the same shape) to the input stream. \n",
    "\n",
    "**Masking** is essentially a way to tell sequence-processing layers that certain timesteps in an input are missing, and thus should be skipped when processing the data.\n",
    "\n",
    "Thus, it adds 'weights' to the system. \n",
    "\n",
    "---\n",
    "\n",
    "### Parameters\n",
    "\n",
    "1. **generator:** The input data generator\n",
    "2. **id_to_mask:** The value with which to mask. Can be used as `<PAD>` in NLP."
   ]
  },
  {
   "cell_type": "markdown",
   "metadata": {
    "id": "hZPWc6a9hk_u",
    "papermill": {
     "duration": 0.085909,
     "end_time": "2020-10-25T07:22:15.963052",
     "exception": false,
     "start_time": "2020-10-25T07:22:15.877143",
     "status": "completed"
    },
    "tags": []
   },
   "source": [
    "```\n",
    "\n",
    "train_generator = trax.data.inputs.add_loss_weights(\n",
    "    data_generator(batch_size, x_train, y_train,vocab['<PAD>'], True),\n",
    "    id_to_mask=vocab['<PAD>'])\n",
    "\n",
    "\n",
    "```\n",
    "\n",
    "For example, in this case I used the `add_loss_weights` function to add padding while implementing Named Entity Recogntion using the Reformer Architecture. You can read more about the project [here](https://www.kaggle.com/sauravmaheshkar/trax-ner-using-reformer)."
   ]
  },
  {
   "cell_type": "markdown",
   "metadata": {
    "id": "GL31NErOgL3u",
    "papermill": {
     "duration": 0.076417,
     "end_time": "2020-10-25T07:22:16.117585",
     "exception": false,
     "start_time": "2020-10-25T07:22:16.041168",
     "status": "completed"
    },
    "tags": []
   },
   "source": [
    "## AddLossWeights"
   ]
  },
  {
   "cell_type": "markdown",
   "metadata": {
    "id": "mBLf6iuXgPp2",
    "papermill": {
     "duration": 0.079632,
     "end_time": "2020-10-25T07:22:16.275702",
     "exception": false,
     "start_time": "2020-10-25T07:22:16.196070",
     "status": "completed"
    },
    "tags": []
   },
   "source": [
    "This function performs the afforementioned `add_loss_weights` to the data stream. \n",
    "\n",
    "```\n",
    "def AddLossWeights(id_to_mask=None):\n",
    "  return lambda g: add_loss_weights(g,id_to_mask=id_to_mask)\n",
    "```\n"
   ]
  },
  {
   "cell_type": "code",
   "execution_count": 9,
   "metadata": {
    "execution": {
     "iopub.execute_input": "2020-10-25T07:22:16.446869Z",
     "iopub.status.busy": "2020-10-25T07:22:16.446040Z",
     "iopub.status.idle": "2020-10-25T07:22:18.731373Z",
     "shell.execute_reply": "2020-10-25T07:22:18.730796Z"
    },
    "id": "Jwtt-k_2iHEy",
    "outputId": "52295b0e-ff9c-415e-9ba6-1d5c1359b508",
    "papermill": {
     "duration": 2.37838,
     "end_time": "2020-10-25T07:22:18.731518",
     "exception": false,
     "start_time": "2020-10-25T07:22:16.353138",
     "status": "completed"
    },
    "tags": []
   },
   "outputs": [
    {
     "name": "stdout",
     "output_type": "stream",
     "text": [
      "(ShapeDtype{shape:(8, 2048), dtype:int64}, ShapeDtype{shape:(8,), dtype:int64}, ShapeDtype{shape:(8,), dtype:float32})\n",
      "(array([[ 139,  777,  825, ...,    0,    0,    0],\n",
      "       [  28, 4604, 3603, ...,    0,    0,    0],\n",
      "       [3909,  138,    5, ...,    0,    0,    0],\n",
      "       ...,\n",
      "       [ 182,   25,   34, ...,    0,    0,    0],\n",
      "       [2411,    2, 2090, ...,    0,    0,    0],\n",
      "       [2275,    2,  449, ...,    0,    0,    0]]), array([0, 0, 0, 1, 1, 0, 0, 1]), array([1., 1., 1., 1., 1., 1., 1., 1.], dtype=float32))\n"
     ]
    }
   ],
   "source": [
    "data_pipeline = trax.data.Serial(\n",
    "    trax.data.TFDS('imdb_reviews', keys=('text', 'label'), train=True),\n",
    "    trax.data.Tokenize(vocab_dir='gs://trax-ml/vocabs/', vocab_file='en_8k.subword', keys=[0]),\n",
    "    trax.data.Shuffle(),\n",
    "    trax.data.FilterByLength(max_length=2048, length_keys=[0]),\n",
    "    trax.data.BucketByLength(boundaries=[  32, 128, 512, 2048],\n",
    "                             batch_sizes=[512, 128,  32,    8, 1],\n",
    "                             length_keys=[0]),\n",
    "    trax.data.AddLossWeights(),\n",
    "    trax.data.Log(only_shapes=True)\n",
    "  )\n",
    "\n",
    "example = data_pipeline()\n",
    "print(next(example))"
   ]
  }
 ],
 "metadata": {
  "kernelspec": {
   "display_name": "Python 3",
   "language": "python",
   "name": "python3"
  },
  "language_info": {
   "codemirror_mode": {
    "name": "ipython",
    "version": 3
   },
   "file_extension": ".py",
   "mimetype": "text/x-python",
   "name": "python",
   "nbconvert_exporter": "python",
   "pygments_lexer": "ipython3",
   "version": "3.7.6"
  },
  "papermill": {
   "duration": 146.193234,
   "end_time": "2020-10-25T07:22:18.971010",
   "environment_variables": {},
   "exception": null,
   "input_path": "__notebook__.ipynb",
   "output_path": "__notebook__.ipynb",
   "parameters": {},
   "start_time": "2020-10-25T07:19:52.777776",
   "version": "2.1.0"
  },
  "widgets": {
   "application/vnd.jupyter.widget-state+json": {
    "state": {
     "0870758548554d29a6aabb25b91f3133": {
      "model_module": "@jupyter-widgets/base",
      "model_module_version": "1.2.0",
      "model_name": "LayoutModel",
      "state": {
       "_model_module": "@jupyter-widgets/base",
       "_model_module_version": "1.2.0",
       "_model_name": "LayoutModel",
       "_view_count": null,
       "_view_module": "@jupyter-widgets/base",
       "_view_module_version": "1.2.0",
       "_view_name": "LayoutView",
       "align_content": null,
       "align_items": null,
       "align_self": null,
       "border": null,
       "bottom": null,
       "display": null,
       "flex": null,
       "flex_flow": null,
       "grid_area": null,
       "grid_auto_columns": null,
       "grid_auto_flow": null,
       "grid_auto_rows": null,
       "grid_column": null,
       "grid_gap": null,
       "grid_row": null,
       "grid_template_areas": null,
       "grid_template_columns": null,
       "grid_template_rows": null,
       "height": null,
       "justify_content": null,
       "justify_items": null,
       "left": null,
       "margin": null,
       "max_height": null,
       "max_width": null,
       "min_height": null,
       "min_width": null,
       "object_fit": null,
       "object_position": null,
       "order": null,
       "overflow": null,
       "overflow_x": null,
       "overflow_y": null,
       "padding": null,
       "right": null,
       "top": null,
       "visibility": null,
       "width": null
      }
     },
     "0e13e545e1ee4dc89b173624b78e72c8": {
      "model_module": "@jupyter-widgets/controls",
      "model_module_version": "1.5.0",
      "model_name": "ProgressStyleModel",
      "state": {
       "_model_module": "@jupyter-widgets/controls",
       "_model_module_version": "1.5.0",
       "_model_name": "ProgressStyleModel",
       "_view_count": null,
       "_view_module": "@jupyter-widgets/base",
       "_view_module_version": "1.2.0",
       "_view_name": "StyleView",
       "bar_color": null,
       "description_width": "initial"
      }
     },
     "10d626557ff84d65b81bb111dcea62dd": {
      "model_module": "@jupyter-widgets/base",
      "model_module_version": "1.2.0",
      "model_name": "LayoutModel",
      "state": {
       "_model_module": "@jupyter-widgets/base",
       "_model_module_version": "1.2.0",
       "_model_name": "LayoutModel",
       "_view_count": null,
       "_view_module": "@jupyter-widgets/base",
       "_view_module_version": "1.2.0",
       "_view_name": "LayoutView",
       "align_content": null,
       "align_items": null,
       "align_self": null,
       "border": null,
       "bottom": null,
       "display": null,
       "flex": null,
       "flex_flow": null,
       "grid_area": null,
       "grid_auto_columns": null,
       "grid_auto_flow": null,
       "grid_auto_rows": null,
       "grid_column": null,
       "grid_gap": null,
       "grid_row": null,
       "grid_template_areas": null,
       "grid_template_columns": null,
       "grid_template_rows": null,
       "height": null,
       "justify_content": null,
       "justify_items": null,
       "left": null,
       "margin": null,
       "max_height": null,
       "max_width": null,
       "min_height": null,
       "min_width": null,
       "object_fit": null,
       "object_position": null,
       "order": null,
       "overflow": null,
       "overflow_x": null,
       "overflow_y": null,
       "padding": null,
       "right": null,
       "top": null,
       "visibility": null,
       "width": null
      }
     },
     "14987662a12542c392c9a7a681163cc6": {
      "model_module": "@jupyter-widgets/controls",
      "model_module_version": "1.5.0",
      "model_name": "DescriptionStyleModel",
      "state": {
       "_model_module": "@jupyter-widgets/controls",
       "_model_module_version": "1.5.0",
       "_model_name": "DescriptionStyleModel",
       "_view_count": null,
       "_view_module": "@jupyter-widgets/base",
       "_view_module_version": "1.2.0",
       "_view_name": "StyleView",
       "description_width": ""
      }
     },
     "1aff1b5875674813a80678dc7a795395": {
      "model_module": "@jupyter-widgets/base",
      "model_module_version": "1.2.0",
      "model_name": "LayoutModel",
      "state": {
       "_model_module": "@jupyter-widgets/base",
       "_model_module_version": "1.2.0",
       "_model_name": "LayoutModel",
       "_view_count": null,
       "_view_module": "@jupyter-widgets/base",
       "_view_module_version": "1.2.0",
       "_view_name": "LayoutView",
       "align_content": null,
       "align_items": null,
       "align_self": null,
       "border": null,
       "bottom": null,
       "display": null,
       "flex": null,
       "flex_flow": null,
       "grid_area": null,
       "grid_auto_columns": null,
       "grid_auto_flow": null,
       "grid_auto_rows": null,
       "grid_column": null,
       "grid_gap": null,
       "grid_row": null,
       "grid_template_areas": null,
       "grid_template_columns": null,
       "grid_template_rows": null,
       "height": null,
       "justify_content": null,
       "justify_items": null,
       "left": null,
       "margin": null,
       "max_height": null,
       "max_width": null,
       "min_height": null,
       "min_width": null,
       "object_fit": null,
       "object_position": null,
       "order": null,
       "overflow": null,
       "overflow_x": null,
       "overflow_y": null,
       "padding": null,
       "right": null,
       "top": null,
       "visibility": null,
       "width": null
      }
     },
     "1ddf5296e43045cca78e9b8119d931e2": {
      "model_module": "@jupyter-widgets/base",
      "model_module_version": "1.2.0",
      "model_name": "LayoutModel",
      "state": {
       "_model_module": "@jupyter-widgets/base",
       "_model_module_version": "1.2.0",
       "_model_name": "LayoutModel",
       "_view_count": null,
       "_view_module": "@jupyter-widgets/base",
       "_view_module_version": "1.2.0",
       "_view_name": "LayoutView",
       "align_content": null,
       "align_items": null,
       "align_self": null,
       "border": null,
       "bottom": null,
       "display": null,
       "flex": null,
       "flex_flow": null,
       "grid_area": null,
       "grid_auto_columns": null,
       "grid_auto_flow": null,
       "grid_auto_rows": null,
       "grid_column": null,
       "grid_gap": null,
       "grid_row": null,
       "grid_template_areas": null,
       "grid_template_columns": null,
       "grid_template_rows": null,
       "height": null,
       "justify_content": null,
       "justify_items": null,
       "left": null,
       "margin": null,
       "max_height": null,
       "max_width": null,
       "min_height": null,
       "min_width": null,
       "object_fit": null,
       "object_position": null,
       "order": null,
       "overflow": null,
       "overflow_x": null,
       "overflow_y": null,
       "padding": null,
       "right": null,
       "top": null,
       "visibility": null,
       "width": null
      }
     },
     "1f8a8ec55fd94254a859817d04062293": {
      "model_module": "@jupyter-widgets/controls",
      "model_module_version": "1.5.0",
      "model_name": "HTMLModel",
      "state": {
       "_dom_classes": [],
       "_model_module": "@jupyter-widgets/controls",
       "_model_module_version": "1.5.0",
       "_model_name": "HTMLModel",
       "_view_count": null,
       "_view_module": "@jupyter-widgets/controls",
       "_view_module_version": "1.5.0",
       "_view_name": "HTMLView",
       "description": "",
       "description_tooltip": null,
       "layout": "IPY_MODEL_ad1830256ccc4f348e0408aade87744a",
       "placeholder": "​",
       "style": "IPY_MODEL_ce68bfb2464c4833bafb587d6b8175fa",
       "value": " 24999/25000 [00:00&lt;00:00, 79982.99 examples/s]"
      }
     },
     "21fc16d09a9b486b95d8302bd1e8b385": {
      "model_module": "@jupyter-widgets/controls",
      "model_module_version": "1.5.0",
      "model_name": "DescriptionStyleModel",
      "state": {
       "_model_module": "@jupyter-widgets/controls",
       "_model_module_version": "1.5.0",
       "_model_name": "DescriptionStyleModel",
       "_view_count": null,
       "_view_module": "@jupyter-widgets/base",
       "_view_module_version": "1.2.0",
       "_view_name": "StyleView",
       "description_width": ""
      }
     },
     "23e844271ea44531b3f88baac6cca988": {
      "model_module": "@jupyter-widgets/controls",
      "model_module_version": "1.5.0",
      "model_name": "HBoxModel",
      "state": {
       "_dom_classes": [],
       "_model_module": "@jupyter-widgets/controls",
       "_model_module_version": "1.5.0",
       "_model_name": "HBoxModel",
       "_view_count": null,
       "_view_module": "@jupyter-widgets/controls",
       "_view_module_version": "1.5.0",
       "_view_name": "HBoxView",
       "box_style": "",
       "children": [
        "IPY_MODEL_a9356912afd042fa90da388f6e5f0d63",
        "IPY_MODEL_1f8a8ec55fd94254a859817d04062293"
       ],
       "layout": "IPY_MODEL_32e81f0aa7c44d02a059a4fe1e80ac94"
      }
     },
     "254a1e8940634e14a75f748d3509b5ae": {
      "model_module": "@jupyter-widgets/controls",
      "model_module_version": "1.5.0",
      "model_name": "ProgressStyleModel",
      "state": {
       "_model_module": "@jupyter-widgets/controls",
       "_model_module_version": "1.5.0",
       "_model_name": "ProgressStyleModel",
       "_view_count": null,
       "_view_module": "@jupyter-widgets/base",
       "_view_module_version": "1.2.0",
       "_view_name": "StyleView",
       "bar_color": null,
       "description_width": "initial"
      }
     },
     "2aadc8b2dea3470b8a3454ac5c29674a": {
      "model_module": "@jupyter-widgets/base",
      "model_module_version": "1.2.0",
      "model_name": "LayoutModel",
      "state": {
       "_model_module": "@jupyter-widgets/base",
       "_model_module_version": "1.2.0",
       "_model_name": "LayoutModel",
       "_view_count": null,
       "_view_module": "@jupyter-widgets/base",
       "_view_module_version": "1.2.0",
       "_view_name": "LayoutView",
       "align_content": null,
       "align_items": null,
       "align_self": null,
       "border": null,
       "bottom": null,
       "display": null,
       "flex": null,
       "flex_flow": null,
       "grid_area": null,
       "grid_auto_columns": null,
       "grid_auto_flow": null,
       "grid_auto_rows": null,
       "grid_column": null,
       "grid_gap": null,
       "grid_row": null,
       "grid_template_areas": null,
       "grid_template_columns": null,
       "grid_template_rows": null,
       "height": null,
       "justify_content": null,
       "justify_items": null,
       "left": null,
       "margin": null,
       "max_height": null,
       "max_width": null,
       "min_height": null,
       "min_width": null,
       "object_fit": null,
       "object_position": null,
       "order": null,
       "overflow": null,
       "overflow_x": null,
       "overflow_y": null,
       "padding": null,
       "right": null,
       "top": null,
       "visibility": null,
       "width": null
      }
     },
     "2e049462f7b8499a8783ae24cb0e658b": {
      "model_module": "@jupyter-widgets/base",
      "model_module_version": "1.2.0",
      "model_name": "LayoutModel",
      "state": {
       "_model_module": "@jupyter-widgets/base",
       "_model_module_version": "1.2.0",
       "_model_name": "LayoutModel",
       "_view_count": null,
       "_view_module": "@jupyter-widgets/base",
       "_view_module_version": "1.2.0",
       "_view_name": "LayoutView",
       "align_content": null,
       "align_items": null,
       "align_self": null,
       "border": null,
       "bottom": null,
       "display": null,
       "flex": null,
       "flex_flow": null,
       "grid_area": null,
       "grid_auto_columns": null,
       "grid_auto_flow": null,
       "grid_auto_rows": null,
       "grid_column": null,
       "grid_gap": null,
       "grid_row": null,
       "grid_template_areas": null,
       "grid_template_columns": null,
       "grid_template_rows": null,
       "height": null,
       "justify_content": null,
       "justify_items": null,
       "left": null,
       "margin": null,
       "max_height": null,
       "max_width": null,
       "min_height": null,
       "min_width": null,
       "object_fit": null,
       "object_position": null,
       "order": null,
       "overflow": null,
       "overflow_x": null,
       "overflow_y": null,
       "padding": null,
       "right": null,
       "top": null,
       "visibility": null,
       "width": null
      }
     },
     "32e81f0aa7c44d02a059a4fe1e80ac94": {
      "model_module": "@jupyter-widgets/base",
      "model_module_version": "1.2.0",
      "model_name": "LayoutModel",
      "state": {
       "_model_module": "@jupyter-widgets/base",
       "_model_module_version": "1.2.0",
       "_model_name": "LayoutModel",
       "_view_count": null,
       "_view_module": "@jupyter-widgets/base",
       "_view_module_version": "1.2.0",
       "_view_name": "LayoutView",
       "align_content": null,
       "align_items": null,
       "align_self": null,
       "border": null,
       "bottom": null,
       "display": null,
       "flex": null,
       "flex_flow": null,
       "grid_area": null,
       "grid_auto_columns": null,
       "grid_auto_flow": null,
       "grid_auto_rows": null,
       "grid_column": null,
       "grid_gap": null,
       "grid_row": null,
       "grid_template_areas": null,
       "grid_template_columns": null,
       "grid_template_rows": null,
       "height": null,
       "justify_content": null,
       "justify_items": null,
       "left": null,
       "margin": null,
       "max_height": null,
       "max_width": null,
       "min_height": null,
       "min_width": null,
       "object_fit": null,
       "object_position": null,
       "order": null,
       "overflow": null,
       "overflow_x": null,
       "overflow_y": null,
       "padding": null,
       "right": null,
       "top": null,
       "visibility": null,
       "width": null
      }
     },
     "334eb20c1d834918af41beb1bcb3b4ca": {
      "model_module": "@jupyter-widgets/controls",
      "model_module_version": "1.5.0",
      "model_name": "ProgressStyleModel",
      "state": {
       "_model_module": "@jupyter-widgets/controls",
       "_model_module_version": "1.5.0",
       "_model_name": "ProgressStyleModel",
       "_view_count": null,
       "_view_module": "@jupyter-widgets/base",
       "_view_module_version": "1.2.0",
       "_view_name": "StyleView",
       "bar_color": null,
       "description_width": "initial"
      }
     },
     "355d475897864f4f9f6e602a8667361d": {
      "model_module": "@jupyter-widgets/base",
      "model_module_version": "1.2.0",
      "model_name": "LayoutModel",
      "state": {
       "_model_module": "@jupyter-widgets/base",
       "_model_module_version": "1.2.0",
       "_model_name": "LayoutModel",
       "_view_count": null,
       "_view_module": "@jupyter-widgets/base",
       "_view_module_version": "1.2.0",
       "_view_name": "LayoutView",
       "align_content": null,
       "align_items": null,
       "align_self": null,
       "border": null,
       "bottom": null,
       "display": null,
       "flex": null,
       "flex_flow": null,
       "grid_area": null,
       "grid_auto_columns": null,
       "grid_auto_flow": null,
       "grid_auto_rows": null,
       "grid_column": null,
       "grid_gap": null,
       "grid_row": null,
       "grid_template_areas": null,
       "grid_template_columns": null,
       "grid_template_rows": null,
       "height": null,
       "justify_content": null,
       "justify_items": null,
       "left": null,
       "margin": null,
       "max_height": null,
       "max_width": null,
       "min_height": null,
       "min_width": null,
       "object_fit": null,
       "object_position": null,
       "order": null,
       "overflow": null,
       "overflow_x": null,
       "overflow_y": null,
       "padding": null,
       "right": null,
       "top": null,
       "visibility": null,
       "width": null
      }
     },
     "3ec07cd6bf1b44a195dc4fa358f06d5a": {
      "model_module": "@jupyter-widgets/controls",
      "model_module_version": "1.5.0",
      "model_name": "HBoxModel",
      "state": {
       "_dom_classes": [],
       "_model_module": "@jupyter-widgets/controls",
       "_model_module_version": "1.5.0",
       "_model_name": "HBoxModel",
       "_view_count": null,
       "_view_module": "@jupyter-widgets/controls",
       "_view_module_version": "1.5.0",
       "_view_name": "HBoxView",
       "box_style": "",
       "children": [
        "IPY_MODEL_9996e83e6c614bc7a6dccc6702d6a4a1",
        "IPY_MODEL_beb100afbaa840ab9177c89422c23abb"
       ],
       "layout": "IPY_MODEL_6e4975cf21f1469fa347c76b60343222"
      }
     },
     "408988f45bdf4847a0511bbecbeb518f": {
      "model_module": "@jupyter-widgets/controls",
      "model_module_version": "1.5.0",
      "model_name": "HTMLModel",
      "state": {
       "_dom_classes": [],
       "_model_module": "@jupyter-widgets/controls",
       "_model_module_version": "1.5.0",
       "_model_name": "HTMLModel",
       "_view_count": null,
       "_view_module": "@jupyter-widgets/controls",
       "_view_module_version": "1.5.0",
       "_view_name": "HTMLView",
       "description": "",
       "description_tooltip": null,
       "layout": "IPY_MODEL_10d626557ff84d65b81bb111dcea62dd",
       "placeholder": "​",
       "style": "IPY_MODEL_688d7c4b3a1440969aa90bfe266d2440",
       "value": " 49999/50000 [00:00&lt;00:00, 3562.58 examples/s]"
      }
     },
     "46d9eb7bdbfa417e92b20b776a56a608": {
      "model_module": "@jupyter-widgets/controls",
      "model_module_version": "1.5.0",
      "model_name": "FloatProgressModel",
      "state": {
       "_dom_classes": [],
       "_model_module": "@jupyter-widgets/controls",
       "_model_module_version": "1.5.0",
       "_model_name": "FloatProgressModel",
       "_view_count": null,
       "_view_module": "@jupyter-widgets/controls",
       "_view_module_version": "1.5.0",
       "_view_name": "ProgressView",
       "bar_style": "danger",
       "description": "100%",
       "description_tooltip": null,
       "layout": "IPY_MODEL_90111f28d60e48f68baf835a5217ea1f",
       "max": 25000.0,
       "min": 0.0,
       "orientation": "horizontal",
       "style": "IPY_MODEL_fbf0ac1bf21d49128c2d755e5d07635f",
       "value": 24999.0
      }
     },
     "497dbc72504a405dbfb43a537f19441a": {
      "model_module": "@jupyter-widgets/base",
      "model_module_version": "1.2.0",
      "model_name": "LayoutModel",
      "state": {
       "_model_module": "@jupyter-widgets/base",
       "_model_module_version": "1.2.0",
       "_model_name": "LayoutModel",
       "_view_count": null,
       "_view_module": "@jupyter-widgets/base",
       "_view_module_version": "1.2.0",
       "_view_name": "LayoutView",
       "align_content": null,
       "align_items": null,
       "align_self": null,
       "border": null,
       "bottom": null,
       "display": null,
       "flex": null,
       "flex_flow": null,
       "grid_area": null,
       "grid_auto_columns": null,
       "grid_auto_flow": null,
       "grid_auto_rows": null,
       "grid_column": null,
       "grid_gap": null,
       "grid_row": null,
       "grid_template_areas": null,
       "grid_template_columns": null,
       "grid_template_rows": null,
       "height": null,
       "justify_content": null,
       "justify_items": null,
       "left": null,
       "margin": null,
       "max_height": null,
       "max_width": null,
       "min_height": null,
       "min_width": null,
       "object_fit": null,
       "object_position": null,
       "order": null,
       "overflow": null,
       "overflow_x": null,
       "overflow_y": null,
       "padding": null,
       "right": null,
       "top": null,
       "visibility": null,
       "width": null
      }
     },
     "4a9e1a26286d4e92b47f6f16c3eaedb0": {
      "model_module": "@jupyter-widgets/controls",
      "model_module_version": "1.5.0",
      "model_name": "FloatProgressModel",
      "state": {
       "_dom_classes": [],
       "_model_module": "@jupyter-widgets/controls",
       "_model_module_version": "1.5.0",
       "_model_name": "FloatProgressModel",
       "_view_count": null,
       "_view_module": "@jupyter-widgets/controls",
       "_view_module_version": "1.5.0",
       "_view_name": "ProgressView",
       "bar_style": "info",
       "description": "",
       "description_tooltip": null,
       "layout": "IPY_MODEL_9aa1fce6f8444e17a9f44f892945dad0",
       "max": 1.0,
       "min": 0.0,
       "orientation": "horizontal",
       "style": "IPY_MODEL_4c58752ba2514bdf9747f6aad9133cf7",
       "value": 1.0
      }
     },
     "4c58752ba2514bdf9747f6aad9133cf7": {
      "model_module": "@jupyter-widgets/controls",
      "model_module_version": "1.5.0",
      "model_name": "ProgressStyleModel",
      "state": {
       "_model_module": "@jupyter-widgets/controls",
       "_model_module_version": "1.5.0",
       "_model_name": "ProgressStyleModel",
       "_view_count": null,
       "_view_module": "@jupyter-widgets/base",
       "_view_module_version": "1.2.0",
       "_view_name": "StyleView",
       "bar_color": null,
       "description_width": "initial"
      }
     },
     "57bb10dd2c2b4a5dafd8df9f1ca98b6f": {
      "model_module": "@jupyter-widgets/controls",
      "model_module_version": "1.5.0",
      "model_name": "HBoxModel",
      "state": {
       "_dom_classes": [],
       "_model_module": "@jupyter-widgets/controls",
       "_model_module_version": "1.5.0",
       "_model_name": "HBoxModel",
       "_view_count": null,
       "_view_module": "@jupyter-widgets/controls",
       "_view_module_version": "1.5.0",
       "_view_name": "HBoxView",
       "box_style": "",
       "children": [
        "IPY_MODEL_46d9eb7bdbfa417e92b20b776a56a608",
        "IPY_MODEL_99ae839e4013499abd3f1fe82e6ca0e6"
       ],
       "layout": "IPY_MODEL_68ed60c0265e462f8defe41a91c2edcf"
      }
     },
     "5e7a3d0749f64281a6653c6395ab9b96": {
      "model_module": "@jupyter-widgets/base",
      "model_module_version": "1.2.0",
      "model_name": "LayoutModel",
      "state": {
       "_model_module": "@jupyter-widgets/base",
       "_model_module_version": "1.2.0",
       "_model_name": "LayoutModel",
       "_view_count": null,
       "_view_module": "@jupyter-widgets/base",
       "_view_module_version": "1.2.0",
       "_view_name": "LayoutView",
       "align_content": null,
       "align_items": null,
       "align_self": null,
       "border": null,
       "bottom": null,
       "display": null,
       "flex": null,
       "flex_flow": null,
       "grid_area": null,
       "grid_auto_columns": null,
       "grid_auto_flow": null,
       "grid_auto_rows": null,
       "grid_column": null,
       "grid_gap": null,
       "grid_row": null,
       "grid_template_areas": null,
       "grid_template_columns": null,
       "grid_template_rows": null,
       "height": null,
       "justify_content": null,
       "justify_items": null,
       "left": null,
       "margin": null,
       "max_height": null,
       "max_width": null,
       "min_height": null,
       "min_width": null,
       "object_fit": null,
       "object_position": null,
       "order": null,
       "overflow": null,
       "overflow_x": null,
       "overflow_y": null,
       "padding": null,
       "right": null,
       "top": null,
       "visibility": null,
       "width": null
      }
     },
     "5f1a3bc4b38544db9c33c0b9d7a1ed33": {
      "model_module": "@jupyter-widgets/controls",
      "model_module_version": "1.5.0",
      "model_name": "FloatProgressModel",
      "state": {
       "_dom_classes": [],
       "_model_module": "@jupyter-widgets/controls",
       "_model_module_version": "1.5.0",
       "_model_name": "FloatProgressModel",
       "_view_count": null,
       "_view_module": "@jupyter-widgets/controls",
       "_view_module_version": "1.5.0",
       "_view_name": "ProgressView",
       "bar_style": "success",
       "description": "Dl Size...: 100%",
       "description_tooltip": null,
       "layout": "IPY_MODEL_8a772eba33eb444a8fdaf902f54924b0",
       "max": 1.0,
       "min": 0.0,
       "orientation": "horizontal",
       "style": "IPY_MODEL_beaffa8a67a14b1b8bd8d9cca4cfab64",
       "value": 1.0
      }
     },
     "66a6b215f89341f982a5e13a73730ad4": {
      "model_module": "@jupyter-widgets/base",
      "model_module_version": "1.2.0",
      "model_name": "LayoutModel",
      "state": {
       "_model_module": "@jupyter-widgets/base",
       "_model_module_version": "1.2.0",
       "_model_name": "LayoutModel",
       "_view_count": null,
       "_view_module": "@jupyter-widgets/base",
       "_view_module_version": "1.2.0",
       "_view_name": "LayoutView",
       "align_content": null,
       "align_items": null,
       "align_self": null,
       "border": null,
       "bottom": null,
       "display": null,
       "flex": null,
       "flex_flow": null,
       "grid_area": null,
       "grid_auto_columns": null,
       "grid_auto_flow": null,
       "grid_auto_rows": null,
       "grid_column": null,
       "grid_gap": null,
       "grid_row": null,
       "grid_template_areas": null,
       "grid_template_columns": null,
       "grid_template_rows": null,
       "height": null,
       "justify_content": null,
       "justify_items": null,
       "left": null,
       "margin": null,
       "max_height": null,
       "max_width": null,
       "min_height": null,
       "min_width": null,
       "object_fit": null,
       "object_position": null,
       "order": null,
       "overflow": null,
       "overflow_x": null,
       "overflow_y": null,
       "padding": null,
       "right": null,
       "top": null,
       "visibility": null,
       "width": null
      }
     },
     "688d7c4b3a1440969aa90bfe266d2440": {
      "model_module": "@jupyter-widgets/controls",
      "model_module_version": "1.5.0",
      "model_name": "DescriptionStyleModel",
      "state": {
       "_model_module": "@jupyter-widgets/controls",
       "_model_module_version": "1.5.0",
       "_model_name": "DescriptionStyleModel",
       "_view_count": null,
       "_view_module": "@jupyter-widgets/base",
       "_view_module_version": "1.2.0",
       "_view_name": "StyleView",
       "description_width": ""
      }
     },
     "68ed60c0265e462f8defe41a91c2edcf": {
      "model_module": "@jupyter-widgets/base",
      "model_module_version": "1.2.0",
      "model_name": "LayoutModel",
      "state": {
       "_model_module": "@jupyter-widgets/base",
       "_model_module_version": "1.2.0",
       "_model_name": "LayoutModel",
       "_view_count": null,
       "_view_module": "@jupyter-widgets/base",
       "_view_module_version": "1.2.0",
       "_view_name": "LayoutView",
       "align_content": null,
       "align_items": null,
       "align_self": null,
       "border": null,
       "bottom": null,
       "display": null,
       "flex": null,
       "flex_flow": null,
       "grid_area": null,
       "grid_auto_columns": null,
       "grid_auto_flow": null,
       "grid_auto_rows": null,
       "grid_column": null,
       "grid_gap": null,
       "grid_row": null,
       "grid_template_areas": null,
       "grid_template_columns": null,
       "grid_template_rows": null,
       "height": null,
       "justify_content": null,
       "justify_items": null,
       "left": null,
       "margin": null,
       "max_height": null,
       "max_width": null,
       "min_height": null,
       "min_width": null,
       "object_fit": null,
       "object_position": null,
       "order": null,
       "overflow": null,
       "overflow_x": null,
       "overflow_y": null,
       "padding": null,
       "right": null,
       "top": null,
       "visibility": null,
       "width": null
      }
     },
     "6de7af4f07504a838cce6b08da5493da": {
      "model_module": "@jupyter-widgets/controls",
      "model_module_version": "1.5.0",
      "model_name": "HBoxModel",
      "state": {
       "_dom_classes": [],
       "_model_module": "@jupyter-widgets/controls",
       "_model_module_version": "1.5.0",
       "_model_name": "HBoxModel",
       "_view_count": null,
       "_view_module": "@jupyter-widgets/controls",
       "_view_module_version": "1.5.0",
       "_view_name": "HBoxView",
       "box_style": "",
       "children": [
        "IPY_MODEL_891f22263f4e40db9f2ffdf7f2e216d7",
        "IPY_MODEL_a4ef7aab0ca14b31ac4198615786ed48"
       ],
       "layout": "IPY_MODEL_497dbc72504a405dbfb43a537f19441a"
      }
     },
     "6e18ba685d95450eb8feb44994a7b29e": {
      "model_module": "@jupyter-widgets/base",
      "model_module_version": "1.2.0",
      "model_name": "LayoutModel",
      "state": {
       "_model_module": "@jupyter-widgets/base",
       "_model_module_version": "1.2.0",
       "_model_name": "LayoutModel",
       "_view_count": null,
       "_view_module": "@jupyter-widgets/base",
       "_view_module_version": "1.2.0",
       "_view_name": "LayoutView",
       "align_content": null,
       "align_items": null,
       "align_self": null,
       "border": null,
       "bottom": null,
       "display": null,
       "flex": null,
       "flex_flow": null,
       "grid_area": null,
       "grid_auto_columns": null,
       "grid_auto_flow": null,
       "grid_auto_rows": null,
       "grid_column": null,
       "grid_gap": null,
       "grid_row": null,
       "grid_template_areas": null,
       "grid_template_columns": null,
       "grid_template_rows": null,
       "height": null,
       "justify_content": null,
       "justify_items": null,
       "left": null,
       "margin": null,
       "max_height": null,
       "max_width": null,
       "min_height": null,
       "min_width": null,
       "object_fit": null,
       "object_position": null,
       "order": null,
       "overflow": null,
       "overflow_x": null,
       "overflow_y": null,
       "padding": null,
       "right": null,
       "top": null,
       "visibility": null,
       "width": null
      }
     },
     "6e4975cf21f1469fa347c76b60343222": {
      "model_module": "@jupyter-widgets/base",
      "model_module_version": "1.2.0",
      "model_name": "LayoutModel",
      "state": {
       "_model_module": "@jupyter-widgets/base",
       "_model_module_version": "1.2.0",
       "_model_name": "LayoutModel",
       "_view_count": null,
       "_view_module": "@jupyter-widgets/base",
       "_view_module_version": "1.2.0",
       "_view_name": "LayoutView",
       "align_content": null,
       "align_items": null,
       "align_self": null,
       "border": null,
       "bottom": null,
       "display": null,
       "flex": null,
       "flex_flow": null,
       "grid_area": null,
       "grid_auto_columns": null,
       "grid_auto_flow": null,
       "grid_auto_rows": null,
       "grid_column": null,
       "grid_gap": null,
       "grid_row": null,
       "grid_template_areas": null,
       "grid_template_columns": null,
       "grid_template_rows": null,
       "height": null,
       "justify_content": null,
       "justify_items": null,
       "left": null,
       "margin": null,
       "max_height": null,
       "max_width": null,
       "min_height": null,
       "min_width": null,
       "object_fit": null,
       "object_position": null,
       "order": null,
       "overflow": null,
       "overflow_x": null,
       "overflow_y": null,
       "padding": null,
       "right": null,
       "top": null,
       "visibility": null,
       "width": null
      }
     },
     "891f22263f4e40db9f2ffdf7f2e216d7": {
      "model_module": "@jupyter-widgets/controls",
      "model_module_version": "1.5.0",
      "model_name": "FloatProgressModel",
      "state": {
       "_dom_classes": [],
       "_model_module": "@jupyter-widgets/controls",
       "_model_module_version": "1.5.0",
       "_model_name": "FloatProgressModel",
       "_view_count": null,
       "_view_module": "@jupyter-widgets/controls",
       "_view_module_version": "1.5.0",
       "_view_name": "ProgressView",
       "bar_style": "info",
       "description": "",
       "description_tooltip": null,
       "layout": "IPY_MODEL_8c6db009241046239b4d246f97af487b",
       "max": 1.0,
       "min": 0.0,
       "orientation": "horizontal",
       "style": "IPY_MODEL_334eb20c1d834918af41beb1bcb3b4ca",
       "value": 1.0
      }
     },
     "8945416b240e40e48eb4026068ff37d5": {
      "model_module": "@jupyter-widgets/base",
      "model_module_version": "1.2.0",
      "model_name": "LayoutModel",
      "state": {
       "_model_module": "@jupyter-widgets/base",
       "_model_module_version": "1.2.0",
       "_model_name": "LayoutModel",
       "_view_count": null,
       "_view_module": "@jupyter-widgets/base",
       "_view_module_version": "1.2.0",
       "_view_name": "LayoutView",
       "align_content": null,
       "align_items": null,
       "align_self": null,
       "border": null,
       "bottom": null,
       "display": null,
       "flex": null,
       "flex_flow": null,
       "grid_area": null,
       "grid_auto_columns": null,
       "grid_auto_flow": null,
       "grid_auto_rows": null,
       "grid_column": null,
       "grid_gap": null,
       "grid_row": null,
       "grid_template_areas": null,
       "grid_template_columns": null,
       "grid_template_rows": null,
       "height": null,
       "justify_content": null,
       "justify_items": null,
       "left": null,
       "margin": null,
       "max_height": null,
       "max_width": null,
       "min_height": null,
       "min_width": null,
       "object_fit": null,
       "object_position": null,
       "order": null,
       "overflow": null,
       "overflow_x": null,
       "overflow_y": null,
       "padding": null,
       "right": null,
       "top": null,
       "visibility": null,
       "width": null
      }
     },
     "8a772eba33eb444a8fdaf902f54924b0": {
      "model_module": "@jupyter-widgets/base",
      "model_module_version": "1.2.0",
      "model_name": "LayoutModel",
      "state": {
       "_model_module": "@jupyter-widgets/base",
       "_model_module_version": "1.2.0",
       "_model_name": "LayoutModel",
       "_view_count": null,
       "_view_module": "@jupyter-widgets/base",
       "_view_module_version": "1.2.0",
       "_view_name": "LayoutView",
       "align_content": null,
       "align_items": null,
       "align_self": null,
       "border": null,
       "bottom": null,
       "display": null,
       "flex": null,
       "flex_flow": null,
       "grid_area": null,
       "grid_auto_columns": null,
       "grid_auto_flow": null,
       "grid_auto_rows": null,
       "grid_column": null,
       "grid_gap": null,
       "grid_row": null,
       "grid_template_areas": null,
       "grid_template_columns": null,
       "grid_template_rows": null,
       "height": null,
       "justify_content": null,
       "justify_items": null,
       "left": null,
       "margin": null,
       "max_height": null,
       "max_width": null,
       "min_height": null,
       "min_width": null,
       "object_fit": null,
       "object_position": null,
       "order": null,
       "overflow": null,
       "overflow_x": null,
       "overflow_y": null,
       "padding": null,
       "right": null,
       "top": null,
       "visibility": null,
       "width": null
      }
     },
     "8c6db009241046239b4d246f97af487b": {
      "model_module": "@jupyter-widgets/base",
      "model_module_version": "1.2.0",
      "model_name": "LayoutModel",
      "state": {
       "_model_module": "@jupyter-widgets/base",
       "_model_module_version": "1.2.0",
       "_model_name": "LayoutModel",
       "_view_count": null,
       "_view_module": "@jupyter-widgets/base",
       "_view_module_version": "1.2.0",
       "_view_name": "LayoutView",
       "align_content": null,
       "align_items": null,
       "align_self": null,
       "border": null,
       "bottom": null,
       "display": null,
       "flex": null,
       "flex_flow": null,
       "grid_area": null,
       "grid_auto_columns": null,
       "grid_auto_flow": null,
       "grid_auto_rows": null,
       "grid_column": null,
       "grid_gap": null,
       "grid_row": null,
       "grid_template_areas": null,
       "grid_template_columns": null,
       "grid_template_rows": null,
       "height": null,
       "justify_content": null,
       "justify_items": null,
       "left": null,
       "margin": null,
       "max_height": null,
       "max_width": null,
       "min_height": null,
       "min_width": null,
       "object_fit": null,
       "object_position": null,
       "order": null,
       "overflow": null,
       "overflow_x": null,
       "overflow_y": null,
       "padding": null,
       "right": null,
       "top": null,
       "visibility": null,
       "width": null
      }
     },
     "90111f28d60e48f68baf835a5217ea1f": {
      "model_module": "@jupyter-widgets/base",
      "model_module_version": "1.2.0",
      "model_name": "LayoutModel",
      "state": {
       "_model_module": "@jupyter-widgets/base",
       "_model_module_version": "1.2.0",
       "_model_name": "LayoutModel",
       "_view_count": null,
       "_view_module": "@jupyter-widgets/base",
       "_view_module_version": "1.2.0",
       "_view_name": "LayoutView",
       "align_content": null,
       "align_items": null,
       "align_self": null,
       "border": null,
       "bottom": null,
       "display": null,
       "flex": null,
       "flex_flow": null,
       "grid_area": null,
       "grid_auto_columns": null,
       "grid_auto_flow": null,
       "grid_auto_rows": null,
       "grid_column": null,
       "grid_gap": null,
       "grid_row": null,
       "grid_template_areas": null,
       "grid_template_columns": null,
       "grid_template_rows": null,
       "height": null,
       "justify_content": null,
       "justify_items": null,
       "left": null,
       "margin": null,
       "max_height": null,
       "max_width": null,
       "min_height": null,
       "min_width": null,
       "object_fit": null,
       "object_position": null,
       "order": null,
       "overflow": null,
       "overflow_x": null,
       "overflow_y": null,
       "padding": null,
       "right": null,
       "top": null,
       "visibility": null,
       "width": null
      }
     },
     "92015c8c323a4591ad4ad715059bffa9": {
      "model_module": "@jupyter-widgets/controls",
      "model_module_version": "1.5.0",
      "model_name": "HTMLModel",
      "state": {
       "_dom_classes": [],
       "_model_module": "@jupyter-widgets/controls",
       "_model_module_version": "1.5.0",
       "_model_name": "HTMLModel",
       "_view_count": null,
       "_view_module": "@jupyter-widgets/controls",
       "_view_module_version": "1.5.0",
       "_view_name": "HTMLView",
       "description": "",
       "description_tooltip": null,
       "layout": "IPY_MODEL_355d475897864f4f9f6e602a8667361d",
       "placeholder": "​",
       "style": "IPY_MODEL_94fc310656ab4161991e9dcc4d4ca780",
       "value": " 25000/0 [00:19&lt;00:00, 2606.23 examples/s]"
      }
     },
     "94fc310656ab4161991e9dcc4d4ca780": {
      "model_module": "@jupyter-widgets/controls",
      "model_module_version": "1.5.0",
      "model_name": "DescriptionStyleModel",
      "state": {
       "_model_module": "@jupyter-widgets/controls",
       "_model_module_version": "1.5.0",
       "_model_name": "DescriptionStyleModel",
       "_view_count": null,
       "_view_module": "@jupyter-widgets/base",
       "_view_module_version": "1.2.0",
       "_view_name": "StyleView",
       "description_width": ""
      }
     },
     "9996e83e6c614bc7a6dccc6702d6a4a1": {
      "model_module": "@jupyter-widgets/controls",
      "model_module_version": "1.5.0",
      "model_name": "FloatProgressModel",
      "state": {
       "_dom_classes": [],
       "_model_module": "@jupyter-widgets/controls",
       "_model_module_version": "1.5.0",
       "_model_name": "FloatProgressModel",
       "_view_count": null,
       "_view_module": "@jupyter-widgets/controls",
       "_view_module_version": "1.5.0",
       "_view_name": "ProgressView",
       "bar_style": "success",
       "description": "Dl Completed...: 100%",
       "description_tooltip": null,
       "layout": "IPY_MODEL_1aff1b5875674813a80678dc7a795395",
       "max": 1.0,
       "min": 0.0,
       "orientation": "horizontal",
       "style": "IPY_MODEL_0e13e545e1ee4dc89b173624b78e72c8",
       "value": 1.0
      }
     },
     "99ae839e4013499abd3f1fe82e6ca0e6": {
      "model_module": "@jupyter-widgets/controls",
      "model_module_version": "1.5.0",
      "model_name": "HTMLModel",
      "state": {
       "_dom_classes": [],
       "_model_module": "@jupyter-widgets/controls",
       "_model_module_version": "1.5.0",
       "_model_name": "HTMLModel",
       "_view_count": null,
       "_view_module": "@jupyter-widgets/controls",
       "_view_module_version": "1.5.0",
       "_view_name": "HTMLView",
       "description": "",
       "description_tooltip": null,
       "layout": "IPY_MODEL_6e18ba685d95450eb8feb44994a7b29e",
       "placeholder": "​",
       "style": "IPY_MODEL_14987662a12542c392c9a7a681163cc6",
       "value": " 24999/25000 [00:00&lt;00:00, 88964.27 examples/s]"
      }
     },
     "9aa1fce6f8444e17a9f44f892945dad0": {
      "model_module": "@jupyter-widgets/base",
      "model_module_version": "1.2.0",
      "model_name": "LayoutModel",
      "state": {
       "_model_module": "@jupyter-widgets/base",
       "_model_module_version": "1.2.0",
       "_model_name": "LayoutModel",
       "_view_count": null,
       "_view_module": "@jupyter-widgets/base",
       "_view_module_version": "1.2.0",
       "_view_name": "LayoutView",
       "align_content": null,
       "align_items": null,
       "align_self": null,
       "border": null,
       "bottom": null,
       "display": null,
       "flex": null,
       "flex_flow": null,
       "grid_area": null,
       "grid_auto_columns": null,
       "grid_auto_flow": null,
       "grid_auto_rows": null,
       "grid_column": null,
       "grid_gap": null,
       "grid_row": null,
       "grid_template_areas": null,
       "grid_template_columns": null,
       "grid_template_rows": null,
       "height": null,
       "justify_content": null,
       "justify_items": null,
       "left": null,
       "margin": null,
       "max_height": null,
       "max_width": null,
       "min_height": null,
       "min_width": null,
       "object_fit": null,
       "object_position": null,
       "order": null,
       "overflow": null,
       "overflow_x": null,
       "overflow_y": null,
       "padding": null,
       "right": null,
       "top": null,
       "visibility": null,
       "width": null
      }
     },
     "a04cad89a13f40e7a13d577f1248c32f": {
      "model_module": "@jupyter-widgets/controls",
      "model_module_version": "1.5.0",
      "model_name": "ProgressStyleModel",
      "state": {
       "_model_module": "@jupyter-widgets/controls",
       "_model_module_version": "1.5.0",
       "_model_name": "ProgressStyleModel",
       "_view_count": null,
       "_view_module": "@jupyter-widgets/base",
       "_view_module_version": "1.2.0",
       "_view_name": "StyleView",
       "bar_color": null,
       "description_width": "initial"
      }
     },
     "a37417c229144d4381a7da8e2439a65d": {
      "model_module": "@jupyter-widgets/controls",
      "model_module_version": "1.5.0",
      "model_name": "HTMLModel",
      "state": {
       "_dom_classes": [],
       "_model_module": "@jupyter-widgets/controls",
       "_model_module_version": "1.5.0",
       "_model_name": "HTMLModel",
       "_view_count": null,
       "_view_module": "@jupyter-widgets/controls",
       "_view_module_version": "1.5.0",
       "_view_name": "HTMLView",
       "description": "",
       "description_tooltip": null,
       "layout": "IPY_MODEL_8945416b240e40e48eb4026068ff37d5",
       "placeholder": "​",
       "style": "IPY_MODEL_21fc16d09a9b486b95d8302bd1e8b385",
       "value": " 50000/0 [00:26&lt;00:00, 2483.36 examples/s]"
      }
     },
     "a4ef7aab0ca14b31ac4198615786ed48": {
      "model_module": "@jupyter-widgets/controls",
      "model_module_version": "1.5.0",
      "model_name": "HTMLModel",
      "state": {
       "_dom_classes": [],
       "_model_module": "@jupyter-widgets/controls",
       "_model_module_version": "1.5.0",
       "_model_name": "HTMLModel",
       "_view_count": null,
       "_view_module": "@jupyter-widgets/controls",
       "_view_module_version": "1.5.0",
       "_view_name": "HTMLView",
       "description": "",
       "description_tooltip": null,
       "layout": "IPY_MODEL_2aadc8b2dea3470b8a3454ac5c29674a",
       "placeholder": "​",
       "style": "IPY_MODEL_bd2b9896c80447429d519af61837d753",
       "value": " 25000/0 [00:19&lt;00:00, 2542.98 examples/s]"
      }
     },
     "a5e9f885100c4a5ba38a4132170a5000": {
      "model_module": "@jupyter-widgets/controls",
      "model_module_version": "1.5.0",
      "model_name": "DescriptionStyleModel",
      "state": {
       "_model_module": "@jupyter-widgets/controls",
       "_model_module_version": "1.5.0",
       "_model_name": "DescriptionStyleModel",
       "_view_count": null,
       "_view_module": "@jupyter-widgets/base",
       "_view_module_version": "1.2.0",
       "_view_name": "StyleView",
       "description_width": ""
      }
     },
     "a65117cdaa044804a92f3a858df6dfa5": {
      "model_module": "@jupyter-widgets/base",
      "model_module_version": "1.2.0",
      "model_name": "LayoutModel",
      "state": {
       "_model_module": "@jupyter-widgets/base",
       "_model_module_version": "1.2.0",
       "_model_name": "LayoutModel",
       "_view_count": null,
       "_view_module": "@jupyter-widgets/base",
       "_view_module_version": "1.2.0",
       "_view_name": "LayoutView",
       "align_content": null,
       "align_items": null,
       "align_self": null,
       "border": null,
       "bottom": null,
       "display": null,
       "flex": null,
       "flex_flow": null,
       "grid_area": null,
       "grid_auto_columns": null,
       "grid_auto_flow": null,
       "grid_auto_rows": null,
       "grid_column": null,
       "grid_gap": null,
       "grid_row": null,
       "grid_template_areas": null,
       "grid_template_columns": null,
       "grid_template_rows": null,
       "height": null,
       "justify_content": null,
       "justify_items": null,
       "left": null,
       "margin": null,
       "max_height": null,
       "max_width": null,
       "min_height": null,
       "min_width": null,
       "object_fit": null,
       "object_position": null,
       "order": null,
       "overflow": null,
       "overflow_x": null,
       "overflow_y": null,
       "padding": null,
       "right": null,
       "top": null,
       "visibility": null,
       "width": null
      }
     },
     "a9356912afd042fa90da388f6e5f0d63": {
      "model_module": "@jupyter-widgets/controls",
      "model_module_version": "1.5.0",
      "model_name": "FloatProgressModel",
      "state": {
       "_dom_classes": [],
       "_model_module": "@jupyter-widgets/controls",
       "_model_module_version": "1.5.0",
       "_model_name": "FloatProgressModel",
       "_view_count": null,
       "_view_module": "@jupyter-widgets/controls",
       "_view_module_version": "1.5.0",
       "_view_name": "ProgressView",
       "bar_style": "danger",
       "description": "100%",
       "description_tooltip": null,
       "layout": "IPY_MODEL_cf7b697fe8624aa8b971a5a955c0788f",
       "max": 25000.0,
       "min": 0.0,
       "orientation": "horizontal",
       "style": "IPY_MODEL_b23cb16887a940258aa9f13d2f0d0885",
       "value": 24999.0
      }
     },
     "ad1830256ccc4f348e0408aade87744a": {
      "model_module": "@jupyter-widgets/base",
      "model_module_version": "1.2.0",
      "model_name": "LayoutModel",
      "state": {
       "_model_module": "@jupyter-widgets/base",
       "_model_module_version": "1.2.0",
       "_model_name": "LayoutModel",
       "_view_count": null,
       "_view_module": "@jupyter-widgets/base",
       "_view_module_version": "1.2.0",
       "_view_name": "LayoutView",
       "align_content": null,
       "align_items": null,
       "align_self": null,
       "border": null,
       "bottom": null,
       "display": null,
       "flex": null,
       "flex_flow": null,
       "grid_area": null,
       "grid_auto_columns": null,
       "grid_auto_flow": null,
       "grid_auto_rows": null,
       "grid_column": null,
       "grid_gap": null,
       "grid_row": null,
       "grid_template_areas": null,
       "grid_template_columns": null,
       "grid_template_rows": null,
       "height": null,
       "justify_content": null,
       "justify_items": null,
       "left": null,
       "margin": null,
       "max_height": null,
       "max_width": null,
       "min_height": null,
       "min_width": null,
       "object_fit": null,
       "object_position": null,
       "order": null,
       "overflow": null,
       "overflow_x": null,
       "overflow_y": null,
       "padding": null,
       "right": null,
       "top": null,
       "visibility": null,
       "width": null
      }
     },
     "afd531be76a8480585b9df27b724fc7d": {
      "model_module": "@jupyter-widgets/controls",
      "model_module_version": "1.5.0",
      "model_name": "HBoxModel",
      "state": {
       "_dom_classes": [],
       "_model_module": "@jupyter-widgets/controls",
       "_model_module_version": "1.5.0",
       "_model_name": "HBoxModel",
       "_view_count": null,
       "_view_module": "@jupyter-widgets/controls",
       "_view_module_version": "1.5.0",
       "_view_name": "HBoxView",
       "box_style": "",
       "children": [
        "IPY_MODEL_4a9e1a26286d4e92b47f6f16c3eaedb0",
        "IPY_MODEL_92015c8c323a4591ad4ad715059bffa9"
       ],
       "layout": "IPY_MODEL_1ddf5296e43045cca78e9b8119d931e2"
      }
     },
     "b23cb16887a940258aa9f13d2f0d0885": {
      "model_module": "@jupyter-widgets/controls",
      "model_module_version": "1.5.0",
      "model_name": "ProgressStyleModel",
      "state": {
       "_model_module": "@jupyter-widgets/controls",
       "_model_module_version": "1.5.0",
       "_model_name": "ProgressStyleModel",
       "_view_count": null,
       "_view_module": "@jupyter-widgets/base",
       "_view_module_version": "1.2.0",
       "_view_name": "StyleView",
       "bar_color": null,
       "description_width": "initial"
      }
     },
     "b3649394c17f458e97a9a68795a36093": {
      "model_module": "@jupyter-widgets/controls",
      "model_module_version": "1.5.0",
      "model_name": "HTMLModel",
      "state": {
       "_dom_classes": [],
       "_model_module": "@jupyter-widgets/controls",
       "_model_module_version": "1.5.0",
       "_model_name": "HTMLModel",
       "_view_count": null,
       "_view_module": "@jupyter-widgets/controls",
       "_view_module_version": "1.5.0",
       "_view_name": "HTMLView",
       "description": "",
       "description_tooltip": null,
       "layout": "IPY_MODEL_66a6b215f89341f982a5e13a73730ad4",
       "placeholder": "​",
       "style": "IPY_MODEL_a5e9f885100c4a5ba38a4132170a5000",
       "value": " 80/80 [00:03&lt;00:00, 21.42 MiB/s]"
      }
     },
     "b59ade8a267a4e8c82243ae9c7fe1f38": {
      "model_module": "@jupyter-widgets/controls",
      "model_module_version": "1.5.0",
      "model_name": "HBoxModel",
      "state": {
       "_dom_classes": [],
       "_model_module": "@jupyter-widgets/controls",
       "_model_module_version": "1.5.0",
       "_model_name": "HBoxModel",
       "_view_count": null,
       "_view_module": "@jupyter-widgets/controls",
       "_view_module_version": "1.5.0",
       "_view_name": "HBoxView",
       "box_style": "",
       "children": [
        "IPY_MODEL_c3087e317c154074937678e4cca95b19",
        "IPY_MODEL_a37417c229144d4381a7da8e2439a65d"
       ],
       "layout": "IPY_MODEL_2e049462f7b8499a8783ae24cb0e658b"
      }
     },
     "bd2b9896c80447429d519af61837d753": {
      "model_module": "@jupyter-widgets/controls",
      "model_module_version": "1.5.0",
      "model_name": "DescriptionStyleModel",
      "state": {
       "_model_module": "@jupyter-widgets/controls",
       "_model_module_version": "1.5.0",
       "_model_name": "DescriptionStyleModel",
       "_view_count": null,
       "_view_module": "@jupyter-widgets/base",
       "_view_module_version": "1.2.0",
       "_view_name": "StyleView",
       "description_width": ""
      }
     },
     "beaffa8a67a14b1b8bd8d9cca4cfab64": {
      "model_module": "@jupyter-widgets/controls",
      "model_module_version": "1.5.0",
      "model_name": "ProgressStyleModel",
      "state": {
       "_model_module": "@jupyter-widgets/controls",
       "_model_module_version": "1.5.0",
       "_model_name": "ProgressStyleModel",
       "_view_count": null,
       "_view_module": "@jupyter-widgets/base",
       "_view_module_version": "1.2.0",
       "_view_name": "StyleView",
       "bar_color": null,
       "description_width": "initial"
      }
     },
     "beb100afbaa840ab9177c89422c23abb": {
      "model_module": "@jupyter-widgets/controls",
      "model_module_version": "1.5.0",
      "model_name": "HTMLModel",
      "state": {
       "_dom_classes": [],
       "_model_module": "@jupyter-widgets/controls",
       "_model_module_version": "1.5.0",
       "_model_name": "HTMLModel",
       "_view_count": null,
       "_view_module": "@jupyter-widgets/controls",
       "_view_module_version": "1.5.0",
       "_view_name": "HTMLView",
       "description": "",
       "description_tooltip": null,
       "layout": "IPY_MODEL_fa2845c97d56436e8c84f70b42451ce2",
       "placeholder": "​",
       "style": "IPY_MODEL_d00932f1de374de0831bdddaa5dd8a7d",
       "value": " 1/1 [00:03&lt;00:00,  3.77s/ url]"
      }
     },
     "c1df6da97c0349b5a2fceadbbb78bd54": {
      "model_module": "@jupyter-widgets/base",
      "model_module_version": "1.2.0",
      "model_name": "LayoutModel",
      "state": {
       "_model_module": "@jupyter-widgets/base",
       "_model_module_version": "1.2.0",
       "_model_name": "LayoutModel",
       "_view_count": null,
       "_view_module": "@jupyter-widgets/base",
       "_view_module_version": "1.2.0",
       "_view_name": "LayoutView",
       "align_content": null,
       "align_items": null,
       "align_self": null,
       "border": null,
       "bottom": null,
       "display": null,
       "flex": null,
       "flex_flow": null,
       "grid_area": null,
       "grid_auto_columns": null,
       "grid_auto_flow": null,
       "grid_auto_rows": null,
       "grid_column": null,
       "grid_gap": null,
       "grid_row": null,
       "grid_template_areas": null,
       "grid_template_columns": null,
       "grid_template_rows": null,
       "height": null,
       "justify_content": null,
       "justify_items": null,
       "left": null,
       "margin": null,
       "max_height": null,
       "max_width": null,
       "min_height": null,
       "min_width": null,
       "object_fit": null,
       "object_position": null,
       "order": null,
       "overflow": null,
       "overflow_x": null,
       "overflow_y": null,
       "padding": null,
       "right": null,
       "top": null,
       "visibility": null,
       "width": null
      }
     },
     "c3087e317c154074937678e4cca95b19": {
      "model_module": "@jupyter-widgets/controls",
      "model_module_version": "1.5.0",
      "model_name": "FloatProgressModel",
      "state": {
       "_dom_classes": [],
       "_model_module": "@jupyter-widgets/controls",
       "_model_module_version": "1.5.0",
       "_model_name": "FloatProgressModel",
       "_view_count": null,
       "_view_module": "@jupyter-widgets/controls",
       "_view_module_version": "1.5.0",
       "_view_name": "ProgressView",
       "bar_style": "info",
       "description": "",
       "description_tooltip": null,
       "layout": "IPY_MODEL_5e7a3d0749f64281a6653c6395ab9b96",
       "max": 1.0,
       "min": 0.0,
       "orientation": "horizontal",
       "style": "IPY_MODEL_254a1e8940634e14a75f748d3509b5ae",
       "value": 1.0
      }
     },
     "cdbd994df80245edab8784f1cc1f0bb3": {
      "model_module": "@jupyter-widgets/controls",
      "model_module_version": "1.5.0",
      "model_name": "FloatProgressModel",
      "state": {
       "_dom_classes": [],
       "_model_module": "@jupyter-widgets/controls",
       "_model_module_version": "1.5.0",
       "_model_name": "FloatProgressModel",
       "_view_count": null,
       "_view_module": "@jupyter-widgets/controls",
       "_view_module_version": "1.5.0",
       "_view_name": "ProgressView",
       "bar_style": "danger",
       "description": "100%",
       "description_tooltip": null,
       "layout": "IPY_MODEL_c1df6da97c0349b5a2fceadbbb78bd54",
       "max": 50000.0,
       "min": 0.0,
       "orientation": "horizontal",
       "style": "IPY_MODEL_a04cad89a13f40e7a13d577f1248c32f",
       "value": 49999.0
      }
     },
     "ce68bfb2464c4833bafb587d6b8175fa": {
      "model_module": "@jupyter-widgets/controls",
      "model_module_version": "1.5.0",
      "model_name": "DescriptionStyleModel",
      "state": {
       "_model_module": "@jupyter-widgets/controls",
       "_model_module_version": "1.5.0",
       "_model_name": "DescriptionStyleModel",
       "_view_count": null,
       "_view_module": "@jupyter-widgets/base",
       "_view_module_version": "1.2.0",
       "_view_name": "StyleView",
       "description_width": ""
      }
     },
     "cf7b697fe8624aa8b971a5a955c0788f": {
      "model_module": "@jupyter-widgets/base",
      "model_module_version": "1.2.0",
      "model_name": "LayoutModel",
      "state": {
       "_model_module": "@jupyter-widgets/base",
       "_model_module_version": "1.2.0",
       "_model_name": "LayoutModel",
       "_view_count": null,
       "_view_module": "@jupyter-widgets/base",
       "_view_module_version": "1.2.0",
       "_view_name": "LayoutView",
       "align_content": null,
       "align_items": null,
       "align_self": null,
       "border": null,
       "bottom": null,
       "display": null,
       "flex": null,
       "flex_flow": null,
       "grid_area": null,
       "grid_auto_columns": null,
       "grid_auto_flow": null,
       "grid_auto_rows": null,
       "grid_column": null,
       "grid_gap": null,
       "grid_row": null,
       "grid_template_areas": null,
       "grid_template_columns": null,
       "grid_template_rows": null,
       "height": null,
       "justify_content": null,
       "justify_items": null,
       "left": null,
       "margin": null,
       "max_height": null,
       "max_width": null,
       "min_height": null,
       "min_width": null,
       "object_fit": null,
       "object_position": null,
       "order": null,
       "overflow": null,
       "overflow_x": null,
       "overflow_y": null,
       "padding": null,
       "right": null,
       "top": null,
       "visibility": null,
       "width": null
      }
     },
     "d00932f1de374de0831bdddaa5dd8a7d": {
      "model_module": "@jupyter-widgets/controls",
      "model_module_version": "1.5.0",
      "model_name": "DescriptionStyleModel",
      "state": {
       "_model_module": "@jupyter-widgets/controls",
       "_model_module_version": "1.5.0",
       "_model_name": "DescriptionStyleModel",
       "_view_count": null,
       "_view_module": "@jupyter-widgets/base",
       "_view_module_version": "1.2.0",
       "_view_name": "StyleView",
       "description_width": ""
      }
     },
     "d43c92ae2c134f4bac823006a72aa423": {
      "model_module": "@jupyter-widgets/controls",
      "model_module_version": "1.5.0",
      "model_name": "HBoxModel",
      "state": {
       "_dom_classes": [],
       "_model_module": "@jupyter-widgets/controls",
       "_model_module_version": "1.5.0",
       "_model_name": "HBoxModel",
       "_view_count": null,
       "_view_module": "@jupyter-widgets/controls",
       "_view_module_version": "1.5.0",
       "_view_name": "HBoxView",
       "box_style": "",
       "children": [
        "IPY_MODEL_cdbd994df80245edab8784f1cc1f0bb3",
        "IPY_MODEL_408988f45bdf4847a0511bbecbeb518f"
       ],
       "layout": "IPY_MODEL_a65117cdaa044804a92f3a858df6dfa5"
      }
     },
     "fa2845c97d56436e8c84f70b42451ce2": {
      "model_module": "@jupyter-widgets/base",
      "model_module_version": "1.2.0",
      "model_name": "LayoutModel",
      "state": {
       "_model_module": "@jupyter-widgets/base",
       "_model_module_version": "1.2.0",
       "_model_name": "LayoutModel",
       "_view_count": null,
       "_view_module": "@jupyter-widgets/base",
       "_view_module_version": "1.2.0",
       "_view_name": "LayoutView",
       "align_content": null,
       "align_items": null,
       "align_self": null,
       "border": null,
       "bottom": null,
       "display": null,
       "flex": null,
       "flex_flow": null,
       "grid_area": null,
       "grid_auto_columns": null,
       "grid_auto_flow": null,
       "grid_auto_rows": null,
       "grid_column": null,
       "grid_gap": null,
       "grid_row": null,
       "grid_template_areas": null,
       "grid_template_columns": null,
       "grid_template_rows": null,
       "height": null,
       "justify_content": null,
       "justify_items": null,
       "left": null,
       "margin": null,
       "max_height": null,
       "max_width": null,
       "min_height": null,
       "min_width": null,
       "object_fit": null,
       "object_position": null,
       "order": null,
       "overflow": null,
       "overflow_x": null,
       "overflow_y": null,
       "padding": null,
       "right": null,
       "top": null,
       "visibility": null,
       "width": null
      }
     },
     "fbf0ac1bf21d49128c2d755e5d07635f": {
      "model_module": "@jupyter-widgets/controls",
      "model_module_version": "1.5.0",
      "model_name": "ProgressStyleModel",
      "state": {
       "_model_module": "@jupyter-widgets/controls",
       "_model_module_version": "1.5.0",
       "_model_name": "ProgressStyleModel",
       "_view_count": null,
       "_view_module": "@jupyter-widgets/base",
       "_view_module_version": "1.2.0",
       "_view_name": "StyleView",
       "bar_color": null,
       "description_width": "initial"
      }
     },
     "fc2d253b40b7440e813d31757c3137ca": {
      "model_module": "@jupyter-widgets/controls",
      "model_module_version": "1.5.0",
      "model_name": "HBoxModel",
      "state": {
       "_dom_classes": [],
       "_model_module": "@jupyter-widgets/controls",
       "_model_module_version": "1.5.0",
       "_model_name": "HBoxModel",
       "_view_count": null,
       "_view_module": "@jupyter-widgets/controls",
       "_view_module_version": "1.5.0",
       "_view_name": "HBoxView",
       "box_style": "",
       "children": [
        "IPY_MODEL_5f1a3bc4b38544db9c33c0b9d7a1ed33",
        "IPY_MODEL_b3649394c17f458e97a9a68795a36093"
       ],
       "layout": "IPY_MODEL_0870758548554d29a6aabb25b91f3133"
      }
     }
    },
    "version_major": 2,
    "version_minor": 0
   }
  }
 },
 "nbformat": 4,
 "nbformat_minor": 4
}
